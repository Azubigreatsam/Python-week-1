{
 "cells": [
  {
   "cell_type": "code",
   "execution_count": null,
   "id": "be2fff25-8d2c-4ff7-b64b-dbeb874ae16c",
   "metadata": {},
   "outputs": [],
   "source": [
    "\"\"\"\n",
    "               .\n",
    "                        `:.\n",
    "                          `:.\n",
    "                  .:'     ,::\n",
    "                 .:'      ;:'\n",
    "                 ::      ;:'\n",
    "                  :    .:'\n",
    "                   `.  :.\n",
    "          _________________________\n",
    "         : _ _ _ _ _ _ _ _ _ _ _ _ :\n",
    "     ,---:\".\".\".\".\".\".\".\".\".\".\".\".\":\n",
    "    : ,'\"`::.:.:.:.:.:.:.:.:.:.:.::'\n",
    "    `.`.  `:-===-===-===-===-===-:'\n",
    "      `.`-._:                   :\n",
    "        `-.__`.               ,' met.\n",
    "    ,--------`\"`-------------'--------.\n",
    "     `\"--.__                   __.--\"'\n",
    "            `\"\"-------------\"\"'\n",
    "\n",
    "\n",
    "\n",
    "\n",
    "\n",
    "\n",
    "\n",
    "\"\"\"\n",
    "game_basket = (rock,paper,scissors)"
   ]
  },
  {
   "cell_type": "code",
   "execution_count": 5,
   "id": "055fce9d-d063-46ff-b865-465e4227cb8e",
   "metadata": {},
   "outputs": [
    {
     "name": "stdin",
     "output_type": "stream",
     "text": [
      "what do you choose? Type 0 for rock,1 for paper or 2 for scissors: 1\n"
     ]
    },
    {
     "ename": "NameError",
     "evalue": "name 'game_basket' is not defined",
     "output_type": "error",
     "traceback": [
      "\u001b[1;31m---------------------------------------------------------------\u001b[0m",
      "\u001b[1;31mNameError\u001b[0m                     Traceback (most recent call last)",
      "Cell \u001b[1;32mIn[5], line 2\u001b[0m\n\u001b[0;32m      1\u001b[0m user_choice \u001b[38;5;241m=\u001b[39m \u001b[38;5;28mint\u001b[39m(\u001b[38;5;28minput\u001b[39m(\u001b[38;5;124m\"\u001b[39m\u001b[38;5;124mwhat do you choose? Type 0 for rock,1 for paper or 2 for scissors:\u001b[39m\u001b[38;5;124m\"\u001b[39m))\n\u001b[1;32m----> 2\u001b[0m \u001b[38;5;28mprint\u001b[39m(\u001b[43mgame_basket\u001b[49m[user_choice])\n",
      "\u001b[1;31mNameError\u001b[0m: name 'game_basket' is not defined"
     ]
    }
   ],
   "source": [
    "user_choice = int(input(\"what do you choose? Type 0 for rock,1 for paper or 2 for scissors:\"))\n",
    "print(game_basket[user_choice])"
   ]
  },
  {
   "cell_type": "code",
   "execution_count": null,
   "id": "49aac9b9-53be-48e1-a765-d2939ef5979a",
   "metadata": {},
   "outputs": [],
   "source": [
    "what do you choose? Type 0 for rock, 1 for paper or 2 for scissors: paper"
   ]
  },
  {
   "cell_type": "code",
   "execution_count": null,
   "id": "c194db74-c0c7-4309-95ea-29fc8f38cb02",
   "metadata": {},
   "outputs": [],
   "source": []
  },
  {
   "cell_type": "code",
   "execution_count": 10,
   "id": "900a88db-48df-4881-b269-8d8d81f000b3",
   "metadata": {},
   "outputs": [],
   "source": [
    "import random"
   ]
  },
  {
   "cell_type": "code",
   "execution_count": 11,
   "id": "cebb0164-cc4d-429d-a27a-b3eea418ebea",
   "metadata": {},
   "outputs": [],
   "source": [
    "name = \"Victor\""
   ]
  },
  {
   "cell_type": "code",
   "execution_count": 12,
   "id": "5a6e581a-2158-4635-8cc6-7c43cff525e7",
   "metadata": {},
   "outputs": [
    {
     "data": {
      "text/plain": [
       "7"
      ]
     },
     "execution_count": 12,
     "metadata": {},
     "output_type": "execute_result"
    }
   ],
   "source": [
    "random.randint(0, 10)\n"
   ]
  },
  {
   "cell_type": "code",
   "execution_count": 13,
   "id": "57c63458-9a84-46e3-9f01-90a23b0f0e87",
   "metadata": {},
   "outputs": [
    {
     "ename": "TypeError",
     "evalue": "Random.betavariate() missing 2 required positional arguments: 'alpha' and 'beta'",
     "output_type": "error",
     "traceback": [
      "\u001b[1;31m---------------------------------------------------------------\u001b[0m",
      "\u001b[1;31mTypeError\u001b[0m                     Traceback (most recent call last)",
      "Cell \u001b[1;32mIn[13], line 1\u001b[0m\n\u001b[1;32m----> 1\u001b[0m \u001b[43mrandom\u001b[49m\u001b[38;5;241;43m.\u001b[39;49m\u001b[43mbetavariate\u001b[49m\u001b[43m(\u001b[49m\u001b[43m)\u001b[49m\n",
      "\u001b[1;31mTypeError\u001b[0m: Random.betavariate() missing 2 required positional arguments: 'alpha' and 'beta'"
     ]
    }
   ],
   "source": [
    "random.betavariate()"
   ]
  },
  {
   "cell_type": "code",
   "execution_count": null,
   "id": "5ef66461-50b3-4476-b778-15cece50c1ab",
   "metadata": {},
   "outputs": [],
   "source": []
  }
 ],
 "metadata": {
  "kernelspec": {
   "display_name": "Python 3 (ipykernel)",
   "language": "python",
   "name": "python3"
  },
  "language_info": {
   "codemirror_mode": {
    "name": "ipython",
    "version": 3
   },
   "file_extension": ".py",
   "mimetype": "text/x-python",
   "name": "python",
   "nbconvert_exporter": "python",
   "pygments_lexer": "ipython3",
   "version": "3.10.11"
  }
 },
 "nbformat": 4,
 "nbformat_minor": 5
}
