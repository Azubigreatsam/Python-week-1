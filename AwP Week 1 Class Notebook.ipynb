{
 "cells": [
  {
   "cell_type": "code",
   "execution_count": null,
   "id": "4626ea2b-b240-40b1-8974-22b14270b67e",
   "metadata": {},
   "outputs": [],
   "source": [
    "food_charge = 120"
   ]
  },
  {
   "cell_type": "code",
   "execution_count": null,
   "id": "be5b77a2-3af0-4451-8ca6-77e37ff760d7",
   "metadata": {},
   "outputs": [],
   "source": [
    "tips = 7"
   ]
  },
  {
   "cell_type": "code",
   "execution_count": 14,
   "id": "70f63d72-5271-4ed6-9247-165fa77e9b2f",
   "metadata": {},
   "outputs": [
    {
     "ename": "NameError",
     "evalue": "name 'food_charge' is not defined",
     "output_type": "error",
     "traceback": [
      "\u001b[1;31m---------------------------------------------------------------\u001b[0m",
      "\u001b[1;31mNameError\u001b[0m                     Traceback (most recent call last)",
      "Cell \u001b[1;32mIn[14], line 1\u001b[0m\n\u001b[1;32m----> 1\u001b[0m total \u001b[38;5;241m=\u001b[39m \u001b[43mfood_charge\u001b[49m\n",
      "\u001b[1;31mNameError\u001b[0m: name 'food_charge' is not defined"
     ]
    }
   ],
   "source": [
    "total = food_charge"
   ]
  },
  {
   "cell_type": "code",
   "execution_count": null,
   "id": "f578c77b-791f-4f6c-8b85-435cc13f7b2a",
   "metadata": {},
   "outputs": [],
   "source": []
  },
  {
   "cell_type": "code",
   "execution_count": null,
   "id": "3723bf16-26a1-47d5-a14f-0d9f102c52ef",
   "metadata": {},
   "outputs": [],
   "source": []
  }
 ],
 "metadata": {
  "kernelspec": {
   "display_name": "Python 3 (ipykernel)",
   "language": "python",
   "name": "python3"
  },
  "language_info": {
   "codemirror_mode": {
    "name": "ipython",
    "version": 3
   },
   "file_extension": ".py",
   "mimetype": "text/x-python",
   "name": "python",
   "nbconvert_exporter": "python",
   "pygments_lexer": "ipython3",
   "version": "3.10.11"
  }
 },
 "nbformat": 4,
 "nbformat_minor": 5
}
