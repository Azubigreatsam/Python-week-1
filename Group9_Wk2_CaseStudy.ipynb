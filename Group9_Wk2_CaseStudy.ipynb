{
 "cells": [
  {
   "cell_type": "markdown",
   "id": "ca9026db-958d-4ea7-8836-7e920679f83b",
   "metadata": {},
   "source": [
    "AZUBI SALES ANALYSIS"
   ]
  },
  {
   "cell_type": "code",
   "execution_count": 3,
   "id": "327f0dea-b237-46af-a81b-5fadca17b9c9",
   "metadata": {},
   "outputs": [],
   "source": [
    "products = [\"Sankofa Foods\", \"Jamestown Coffee\", \"Bioko Chocolate\", \"Blue Skies Ice Cream\", \"Fair Afric Chocolate\", \"Kawa Moka Coffee\", \"Aphro Spirit\", \"Mensado Bissap\", \"Voltic\"]\n",
    "last_week = [2, 3, 5, 8, 4, 4, 6, 2, 9]\n",
    "prices= [30,25,40,20,20,35,45,50,35]\n"
   ]
  },
  {
   "cell_type": "code",
   "execution_count": 1,
   "id": "d9acbeb8-6bfe-49d1-91a3-89e9da8fa0d4",
   "metadata": {
    "scrolled": true
   },
   "outputs": [
    {
     "ename": "NameError",
     "evalue": "name 'prices' is not defined",
     "output_type": "error",
     "traceback": [
      "\u001b[1;31m---------------------------------------------------------------\u001b[0m",
      "\u001b[1;31mNameError\u001b[0m                     Traceback (most recent call last)",
      "Cell \u001b[1;32mIn[1], line 3\u001b[0m\n\u001b[0;32m      1\u001b[0m \u001b[38;5;66;03m#Average Price\u001b[39;00m\n\u001b[0;32m      2\u001b[0m total \u001b[38;5;241m=\u001b[39m \u001b[38;5;241m0\u001b[39m\n\u001b[1;32m----> 3\u001b[0m \u001b[38;5;28;01mfor\u001b[39;00m item \u001b[38;5;129;01min\u001b[39;00m \u001b[43mprices\u001b[49m:\n\u001b[0;32m      4\u001b[0m     total \u001b[38;5;241m=\u001b[39m total \u001b[38;5;241m+\u001b[39m item\n\u001b[0;32m      5\u001b[0m average_price \u001b[38;5;241m=\u001b[39m total \u001b[38;5;241m/\u001b[39m \u001b[38;5;28mint\u001b[39m(\u001b[38;5;28mlen\u001b[39m(prices))\n",
      "\u001b[1;31mNameError\u001b[0m: name 'prices' is not defined"
     ]
    }
   ],
   "source": [
    "#Average Price\n",
    "total = 0\n",
    "for item in prices:\n",
    "    total = total + item\n",
    "average_price = total / int(len(prices))\n",
    "#New Prices\n",
    "new_prices = []\n",
    "for item in prices:\n",
    "    new_price = item - 5\n",
    "    new_prices.append(new_price)\n",
    "#Total Revenue\n",
    "revenue = []\n",
    "for i in range(0, len(prices)):\n",
    "    revenue.append(prices[i] * last_week[i])\n",
    "total_revenue = 0\n",
    "for item in revenue:\n",
    "    total_revenue = total_revenue + item\n",
    "#Average Revenues\n",
    "avg_daily_revenue= total_revenue / 7\n",
    "#average_daily_revenue_by_product = (price * last_week_sales) / 7 \n",
    "daily_revenue_by_product = []\n",
    "for price, sales in zip(prices, last_week):\n",
    "    daily_revenue_by_product.append((price * sales)/7)\n",
    "#Items below GHC 30\n",
    "cheap_products = []\n",
    "for item, product in zip (new_prices, products):\n",
    "    if item < 30:\n",
    "        cheap_products.append(product)\n",
    "print(f\"The average price for all products is \\nGHC: {average_price:.2f}\\n\"\n",
    "f\"The new price list is \\n{new_prices}\\n\"\n",
    "f\"The total revenue generated was \\nGHC: {total_revenue:.2f}\\n\"\n",
    "f\"The average daily revenue is \\nGHC: {(total_revenue / 7):.2f}\\n\"\n",
    "f\"These products are under GHC 30 \\n{cheap_products}\")"
   ]
  },
  {
   "cell_type": "code",
   "execution_count": null,
   "id": "c4fa9e9b-b6ff-43b8-851c-39cafe45487f",
   "metadata": {},
   "outputs": [],
   "source": []
  }
 ],
 "metadata": {
  "kernelspec": {
   "display_name": "Python 3 (ipykernel)",
   "language": "python",
   "name": "python3"
  },
  "language_info": {
   "codemirror_mode": {
    "name": "ipython",
    "version": 3
   },
   "file_extension": ".py",
   "mimetype": "text/x-python",
   "name": "python",
   "nbconvert_exporter": "python",
   "pygments_lexer": "ipython3",
   "version": "3.10.11"
  }
 },
 "nbformat": 4,
 "nbformat_minor": 5
}
