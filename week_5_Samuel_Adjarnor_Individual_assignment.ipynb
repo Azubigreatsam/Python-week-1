{
 "cells": [
  {
   "cell_type": "code",
   "execution_count": 25,
   "id": "1bea84bb-7adc-4b02-afce-2d23bd74989c",
   "metadata": {},
   "outputs": [],
   "source": [
    "import pandas as pd"
   ]
  },
  {
   "cell_type": "code",
   "execution_count": 39,
   "id": "e8908e45-4d13-46e2-9285-346e9928cf44",
   "metadata": {},
   "outputs": [],
   "source": [
    "import matplotlib.pyplot as plt \n",
    "from matplotlib.ticker import FuncFormatter\n",
    "import seaborn as sns"
   ]
  },
  {
   "cell_type": "code",
   "execution_count": 26,
   "id": "5474a061-aeaf-4e6d-97d0-62a0b05e8b92",
   "metadata": {},
   "outputs": [
    {
     "data": {
      "text/html": [
       "<div>\n",
       "<style scoped>\n",
       "    .dataframe tbody tr th:only-of-type {\n",
       "        vertical-align: middle;\n",
       "    }\n",
       "\n",
       "    .dataframe tbody tr th {\n",
       "        vertical-align: top;\n",
       "    }\n",
       "\n",
       "    .dataframe thead th {\n",
       "        text-align: right;\n",
       "    }\n",
       "</style>\n",
       "<table border=\"1\" class=\"dataframe\">\n",
       "  <thead>\n",
       "    <tr style=\"text-align: right;\">\n",
       "      <th></th>\n",
       "      <th></th>\n",
       "      <th>Plate ID</th>\n",
       "      <th>Registration State</th>\n",
       "      <th>Plate Type</th>\n",
       "      <th>Issue Date</th>\n",
       "      <th>Violation Code</th>\n",
       "      <th>Vehicle Body Type</th>\n",
       "      <th>Vehicle Make</th>\n",
       "      <th>Issuing Agency</th>\n",
       "      <th>Street Code1</th>\n",
       "      <th>...</th>\n",
       "      <th>Vehicle Color</th>\n",
       "      <th>Unregistered Vehicle?</th>\n",
       "      <th>Vehicle Year</th>\n",
       "      <th>Meter Number</th>\n",
       "      <th>Feet From Curb</th>\n",
       "      <th>Violation Post Code</th>\n",
       "      <th>Violation Description</th>\n",
       "      <th>No Standing or Stopping Violation</th>\n",
       "      <th>Hydrant Violation</th>\n",
       "      <th>Double Parking Violation</th>\n",
       "    </tr>\n",
       "  </thead>\n",
       "  <tbody>\n",
       "    <tr>\n",
       "      <th>0</th>\n",
       "      <td>4714702166</td>\n",
       "      <td>KGK6659</td>\n",
       "      <td>NY</td>\n",
       "      <td>PAS</td>\n",
       "      <td>2020-11-12</td>\n",
       "      <td>36</td>\n",
       "      <td>4DSD</td>\n",
       "      <td>BMW</td>\n",
       "      <td>V</td>\n",
       "      <td>0</td>\n",
       "      <td>...</td>\n",
       "      <td>GY</td>\n",
       "      <td>NaN</td>\n",
       "      <td>2007</td>\n",
       "      <td>NaN</td>\n",
       "      <td>0</td>\n",
       "      <td>NaN</td>\n",
       "      <td>PHTO SCHOOL ZN SPEED VIOLATION</td>\n",
       "      <td>NaN</td>\n",
       "      <td>NaN</td>\n",
       "      <td>NaN</td>\n",
       "    </tr>\n",
       "    <tr>\n",
       "      <th>1</th>\n",
       "      <td>8793684599</td>\n",
       "      <td>L5232HY</td>\n",
       "      <td>TN</td>\n",
       "      <td>PAS</td>\n",
       "      <td>2020-09-14</td>\n",
       "      <td>21</td>\n",
       "      <td>TRAC</td>\n",
       "      <td>INTER</td>\n",
       "      <td>T</td>\n",
       "      <td>60790</td>\n",
       "      <td>...</td>\n",
       "      <td>WHITE</td>\n",
       "      <td>NaN</td>\n",
       "      <td>0</td>\n",
       "      <td>NaN</td>\n",
       "      <td>0</td>\n",
       "      <td>W</td>\n",
       "      <td>NaN</td>\n",
       "      <td>NaN</td>\n",
       "      <td>NaN</td>\n",
       "      <td>NaN</td>\n",
       "    </tr>\n",
       "    <tr>\n",
       "      <th>2</th>\n",
       "      <td>8864757053</td>\n",
       "      <td>BPMN76</td>\n",
       "      <td>FL</td>\n",
       "      <td>PAS</td>\n",
       "      <td>2020-11-25</td>\n",
       "      <td>20</td>\n",
       "      <td>SUBN</td>\n",
       "      <td>NISSA</td>\n",
       "      <td>T</td>\n",
       "      <td>36030</td>\n",
       "      <td>...</td>\n",
       "      <td>BLACK</td>\n",
       "      <td>NaN</td>\n",
       "      <td>0</td>\n",
       "      <td>NaN</td>\n",
       "      <td>0</td>\n",
       "      <td>49</td>\n",
       "      <td>20A-No Parking (Non-COM)</td>\n",
       "      <td>NaN</td>\n",
       "      <td>NaN</td>\n",
       "      <td>NaN</td>\n",
       "    </tr>\n",
       "    <tr>\n",
       "      <th>3</th>\n",
       "      <td>8778326047</td>\n",
       "      <td>57387MJ</td>\n",
       "      <td>NY</td>\n",
       "      <td>COM</td>\n",
       "      <td>2020-08-20</td>\n",
       "      <td>38</td>\n",
       "      <td>VAN</td>\n",
       "      <td>NaN</td>\n",
       "      <td>T</td>\n",
       "      <td>34430</td>\n",
       "      <td>...</td>\n",
       "      <td>WH</td>\n",
       "      <td>NaN</td>\n",
       "      <td>2016</td>\n",
       "      <td>NaN</td>\n",
       "      <td>0</td>\n",
       "      <td>1</td>\n",
       "      <td>NaN</td>\n",
       "      <td>NaN</td>\n",
       "      <td>NaN</td>\n",
       "      <td>NaN</td>\n",
       "    </tr>\n",
       "    <tr>\n",
       "      <th>4</th>\n",
       "      <td>4706640702</td>\n",
       "      <td>M81KFJ</td>\n",
       "      <td>NJ</td>\n",
       "      <td>PAS</td>\n",
       "      <td>2020-09-09</td>\n",
       "      <td>36</td>\n",
       "      <td>UT</td>\n",
       "      <td>TOYOT</td>\n",
       "      <td>V</td>\n",
       "      <td>0</td>\n",
       "      <td>...</td>\n",
       "      <td>NaN</td>\n",
       "      <td>NaN</td>\n",
       "      <td>2002</td>\n",
       "      <td>NaN</td>\n",
       "      <td>0</td>\n",
       "      <td>NaN</td>\n",
       "      <td>PHTO SCHOOL ZN SPEED VIOLATION</td>\n",
       "      <td>NaN</td>\n",
       "      <td>NaN</td>\n",
       "      <td>NaN</td>\n",
       "    </tr>\n",
       "  </tbody>\n",
       "</table>\n",
       "<p>5 rows × 43 columns</p>\n",
       "</div>"
      ],
      "text/plain": [
       "              Plate ID Registration State Plate Type Issue Date  \\\n",
       "0  4714702166  KGK6659                 NY        PAS 2020-11-12   \n",
       "1  8793684599  L5232HY                 TN        PAS 2020-09-14   \n",
       "2  8864757053   BPMN76                 FL        PAS 2020-11-25   \n",
       "3  8778326047  57387MJ                 NY        COM 2020-08-20   \n",
       "4  4706640702   M81KFJ                 NJ        PAS 2020-09-09   \n",
       "\n",
       "   Violation Code Vehicle Body Type Vehicle Make Issuing Agency  Street Code1  \\\n",
       "0              36              4DSD          BMW              V             0   \n",
       "1              21              TRAC        INTER              T         60790   \n",
       "2              20              SUBN        NISSA              T         36030   \n",
       "3              38               VAN          NaN              T         34430   \n",
       "4              36                UT        TOYOT              V             0   \n",
       "\n",
       "   ...  Vehicle Color  Unregistered Vehicle?  Vehicle Year  Meter Number  \\\n",
       "0  ...             GY                    NaN          2007           NaN   \n",
       "1  ...          WHITE                    NaN             0           NaN   \n",
       "2  ...          BLACK                    NaN             0           NaN   \n",
       "3  ...             WH                    NaN          2016           NaN   \n",
       "4  ...            NaN                    NaN          2002           NaN   \n",
       "\n",
       "   Feet From Curb  Violation Post Code           Violation Description  \\\n",
       "0               0                  NaN  PHTO SCHOOL ZN SPEED VIOLATION   \n",
       "1               0                    W                             NaN   \n",
       "2               0                   49        20A-No Parking (Non-COM)   \n",
       "3               0                    1                             NaN   \n",
       "4               0                  NaN  PHTO SCHOOL ZN SPEED VIOLATION   \n",
       "\n",
       "  No Standing or Stopping Violation Hydrant Violation Double Parking Violation  \n",
       "0                               NaN               NaN                      NaN  \n",
       "1                               NaN               NaN                      NaN  \n",
       "2                               NaN               NaN                      NaN  \n",
       "3                               NaN               NaN                      NaN  \n",
       "4                               NaN               NaN                      NaN  \n",
       "\n",
       "[5 rows x 43 columns]"
      ]
     },
     "execution_count": 26,
     "metadata": {},
     "output_type": "execute_result"
    }
   ],
   "source": [
    "df = pd.read_excel(r\"C:/Users/user/Downloads/nyc-violation-ticket.xlsx\")\n",
    "df.head(5)\n"
   ]
  },
  {
   "cell_type": "code",
   "execution_count": 13,
   "id": "0d175887-77cc-4872-8e05-c70c7f8ed793",
   "metadata": {},
   "outputs": [],
   "source": [
    "# What are the most common types od violations?"
   ]
  },
  {
   "cell_type": "code",
   "execution_count": 27,
   "id": "58a5aa6f-beb8-4f25-a1da-9991e6e106c5",
   "metadata": {},
   "outputs": [
    {
     "data": {
      "text/plain": [
       "Violation Description\n",
       "PHTO SCHOOL ZN SPEED VIOLATION    14422\n",
       "FAILURE TO STOP AT RED LIGHT       1692\n",
       "BUS LANE VIOLATION                 1435\n",
       "21-No Parking (street clean)        814\n",
       "38-Failure to Dsplay Meter Rec      707\n",
       "Name: count, dtype: int64"
      ]
     },
     "execution_count": 27,
     "metadata": {},
     "output_type": "execute_result"
    }
   ],
   "source": [
    "common_violations = df['Violation Description'].value_counts().sort_values(ascending=False).head(5)\n",
    "common_violations"
   ]
  },
  {
   "cell_type": "code",
   "execution_count": 28,
   "id": "1e5e07ce-dbd1-457b-be19-72b22ef59643",
   "metadata": {},
   "outputs": [
    {
     "data": {
      "text/plain": [
       "                                         0\n",
       "Plate ID                                 0\n",
       "Registration State                       0\n",
       "Plate Type                               0\n",
       "Issue Date                               0\n",
       "Violation Code                           0\n",
       "Vehicle Body Type                      145\n",
       "Vehicle Make                           136\n",
       "Issuing Agency                           0\n",
       "Street Code1                             0\n",
       "Street Code2                             0\n",
       "Street Code3                             0\n",
       "Vehicle Expiration Date                  0\n",
       "Violation Location                   17893\n",
       "Violation Precinct                       0\n",
       "Issuer Precinct                          0\n",
       "Issuer Code                              0\n",
       "Issuer Command                       17857\n",
       "Issuer Squad                         17857\n",
       "Violation Time                           1\n",
       "Time First Observed                  48111\n",
       "Violation County                       117\n",
       "Violation In Front Of Or Opposite    18068\n",
       "House Number                         18272\n",
       "Street Name                             10\n",
       "Intersecting Street                  27283\n",
       "Date First Observed                      0\n",
       "Law Section                              0\n",
       "Sub Division                             2\n",
       "Violation Legal Code                 32143\n",
       "Days Parking In Effect               17857\n",
       "From Hours In Effect                 30394\n",
       "To Hours In Effect                   30394\n",
       "Vehicle Color                         2417\n",
       "Unregistered Vehicle?                47892\n",
       "Vehicle Year                             0\n",
       "Meter Number                         47850\n",
       "Feet From Curb                           0\n",
       "Violation Post Code                  19965\n",
       "Violation Description                27198\n",
       "No Standing or Stopping Violation    50000\n",
       "Hydrant Violation                    50000\n",
       "Double Parking Violation             50000\n",
       "dtype: int64"
      ]
     },
     "execution_count": 28,
     "metadata": {},
     "output_type": "execute_result"
    }
   ],
   "source": [
    "# Are there any missing values in the dataset?\n",
    "df.isna().sum()\n"
   ]
  },
  {
   "cell_type": "code",
   "execution_count": null,
   "id": "66bc3a36-b4db-4948-923e-b6cf268891fe",
   "metadata": {},
   "outputs": [],
   "source": []
  },
  {
   "cell_type": "code",
   "execution_count": null,
   "id": "7ff3cec5-0978-4803-b5a6-e5c647f0f415",
   "metadata": {},
   "outputs": [],
   "source": [
    "# How to handle missing values in the dataset?"
   ]
  },
  {
   "cell_type": "code",
   "execution_count": 29,
   "id": "3f6ca1f5-f503-4f71-ae56-05d713b54f79",
   "metadata": {},
   "outputs": [],
   "source": [
    "# df.dropna(inplace=True)\n",
    "# df.fillna()"
   ]
  },
  {
   "cell_type": "code",
   "execution_count": 31,
   "id": "b35a2d1f-3110-4b68-ae9d-f41dec5692f1",
   "metadata": {},
   "outputs": [],
   "source": [
    "columns_to_drop = ((df.isna().sum()/len(df))*100) > 80\n",
    "df.drop(columns_to_drop[columns_to_drop.values == True].index.tolist(),axis=1,inplace=True)"
   ]
  },
  {
   "cell_type": "code",
   "execution_count": null,
   "id": "0da22e39-a601-478f-a019-ac5753ae9d8c",
   "metadata": {},
   "outputs": [],
   "source": []
  },
  {
   "cell_type": "code",
   "execution_count": 32,
   "id": "fa722333-624e-4d2a-bb7f-ac6f40779dbd",
   "metadata": {},
   "outputs": [
    {
     "name": "stdout",
     "output_type": "stream",
     "text": [
      "<class 'pandas.core.frame.DataFrame'>\n",
      "RangeIndex: 50000 entries, 0 to 49999\n",
      "Data columns (total 37 columns):\n",
      " #   Column                             Non-Null Count  Dtype         \n",
      "---  ------                             --------------  -----         \n",
      " 0                                      50000 non-null  int64         \n",
      " 1   Plate ID                           50000 non-null  object        \n",
      " 2   Registration State                 50000 non-null  object        \n",
      " 3   Plate Type                         50000 non-null  object        \n",
      " 4   Issue Date                         50000 non-null  datetime64[ns]\n",
      " 5   Violation Code                     50000 non-null  int64         \n",
      " 6   Vehicle Body Type                  49855 non-null  object        \n",
      " 7   Vehicle Make                       49864 non-null  object        \n",
      " 8   Issuing Agency                     50000 non-null  object        \n",
      " 9   Street Code1                       50000 non-null  int64         \n",
      " 10  Street Code2                       50000 non-null  int64         \n",
      " 11  Street Code3                       50000 non-null  int64         \n",
      " 12  Vehicle Expiration Date            50000 non-null  int64         \n",
      " 13  Violation Location                 32107 non-null  float64       \n",
      " 14  Violation Precinct                 50000 non-null  int64         \n",
      " 15  Issuer Precinct                    50000 non-null  int64         \n",
      " 16  Issuer Code                        50000 non-null  int64         \n",
      " 17  Issuer Command                     32143 non-null  object        \n",
      " 18  Issuer Squad                       32143 non-null  object        \n",
      " 19  Violation Time                     49999 non-null  object        \n",
      " 20  Violation County                   49883 non-null  object        \n",
      " 21  Violation In Front Of Or Opposite  31932 non-null  object        \n",
      " 22  House Number                       31728 non-null  object        \n",
      " 23  Street Name                        49990 non-null  object        \n",
      " 24  Intersecting Street                22717 non-null  object        \n",
      " 25  Date First Observed                50000 non-null  int64         \n",
      " 26  Law Section                        50000 non-null  int64         \n",
      " 27  Sub Division                       49998 non-null  object        \n",
      " 28  Violation Legal Code               17857 non-null  object        \n",
      " 29  Days Parking In Effect             32143 non-null  object        \n",
      " 30  From Hours In Effect               19606 non-null  object        \n",
      " 31  To Hours In Effect                 19606 non-null  object        \n",
      " 32  Vehicle Color                      47583 non-null  object        \n",
      " 33  Vehicle Year                       50000 non-null  int64         \n",
      " 34  Feet From Curb                     50000 non-null  int64         \n",
      " 35  Violation Post Code                30035 non-null  object        \n",
      " 36  Violation Description              22802 non-null  object        \n",
      "dtypes: datetime64[ns](1), float64(1), int64(13), object(22)\n",
      "memory usage: 14.1+ MB\n"
     ]
    }
   ],
   "source": [
    "df.info()"
   ]
  },
  {
   "cell_type": "code",
   "execution_count": null,
   "id": "c8712caa-a89f-426e-bbb3-78ebae086ddd",
   "metadata": {},
   "outputs": [],
   "source": [
    "# What is the average fine amount for each violation type?\n",
    "# avg_fine_by_violation = df.groupby('Violation Description')"
   ]
  },
  {
   "cell_type": "code",
   "execution_count": 35,
   "id": "8bf3dd0d-c0ec-49aa-9928-8890fcf5b769",
   "metadata": {},
   "outputs": [],
   "source": [
    "#Converting the date from object to datetime\n",
    "df['Issue Date'] = pd.to_datetime(df['Issue Date'], format= 'mixed', dayfirst=True)"
   ]
  },
  {
   "cell_type": "code",
   "execution_count": 33,
   "id": "180f624f-1978-45be-9db1-6a5d22223579",
   "metadata": {},
   "outputs": [
    {
     "data": {
      "text/html": [
       "<div>\n",
       "<style scoped>\n",
       "    .dataframe tbody tr th:only-of-type {\n",
       "        vertical-align: middle;\n",
       "    }\n",
       "\n",
       "    .dataframe tbody tr th {\n",
       "        vertical-align: top;\n",
       "    }\n",
       "\n",
       "    .dataframe thead th {\n",
       "        text-align: right;\n",
       "    }\n",
       "</style>\n",
       "<table border=\"1\" class=\"dataframe\">\n",
       "  <thead>\n",
       "    <tr style=\"text-align: right;\">\n",
       "      <th></th>\n",
       "      <th>Year</th>\n",
       "      <th>Month</th>\n",
       "      <th>Record Count</th>\n",
       "    </tr>\n",
       "  </thead>\n",
       "  <tbody>\n",
       "    <tr>\n",
       "      <th>7</th>\n",
       "      <td>2020</td>\n",
       "      <td>9</td>\n",
       "      <td>11021</td>\n",
       "    </tr>\n",
       "    <tr>\n",
       "      <th>8</th>\n",
       "      <td>2020</td>\n",
       "      <td>10</td>\n",
       "      <td>10797</td>\n",
       "    </tr>\n",
       "    <tr>\n",
       "      <th>6</th>\n",
       "      <td>2020</td>\n",
       "      <td>8</td>\n",
       "      <td>10658</td>\n",
       "    </tr>\n",
       "    <tr>\n",
       "      <th>5</th>\n",
       "      <td>2020</td>\n",
       "      <td>7</td>\n",
       "      <td>7900</td>\n",
       "    </tr>\n",
       "    <tr>\n",
       "      <th>9</th>\n",
       "      <td>2020</td>\n",
       "      <td>11</td>\n",
       "      <td>7676</td>\n",
       "    </tr>\n",
       "    <tr>\n",
       "      <th>4</th>\n",
       "      <td>2020</td>\n",
       "      <td>6</td>\n",
       "      <td>1839</td>\n",
       "    </tr>\n",
       "    <tr>\n",
       "      <th>3</th>\n",
       "      <td>2020</td>\n",
       "      <td>5</td>\n",
       "      <td>101</td>\n",
       "    </tr>\n",
       "    <tr>\n",
       "      <th>2</th>\n",
       "      <td>2020</td>\n",
       "      <td>2</td>\n",
       "      <td>2</td>\n",
       "    </tr>\n",
       "    <tr>\n",
       "      <th>0</th>\n",
       "      <td>2010</td>\n",
       "      <td>10</td>\n",
       "      <td>1</td>\n",
       "    </tr>\n",
       "    <tr>\n",
       "      <th>1</th>\n",
       "      <td>2019</td>\n",
       "      <td>12</td>\n",
       "      <td>1</td>\n",
       "    </tr>\n",
       "  </tbody>\n",
       "</table>\n",
       "</div>"
      ],
      "text/plain": [
       "   Year  Month  Record Count\n",
       "7  2020      9         11021\n",
       "8  2020     10         10797\n",
       "6  2020      8         10658\n",
       "5  2020      7          7900\n",
       "9  2020     11          7676\n",
       "4  2020      6          1839\n",
       "3  2020      5           101\n",
       "2  2020      2             2\n",
       "0  2010     10             1\n",
       "1  2019     12             1"
      ]
     },
     "execution_count": 33,
     "metadata": {},
     "output_type": "execute_result"
    }
   ],
   "source": [
    "# How have violations changed over time(e.g monthly or yearly trends)?\n",
    "\n",
    "df['Month'] = df['Issue Date'].dt.month\n",
    "df['Year'] = df['Issue Date'].dt.year\n",
    "# Group by month and year, and count records in each group\n",
    "grouped_data = df.groupby(['Year','Month']).size().reset_index(name='Record Count').sort_values(by = 'Record Count', ascending=False)\n",
    "grouped_data1 = grouped_data.head(10)\n",
    "grouped_data1"
   ]
  },
  {
   "cell_type": "code",
   "execution_count": 43,
   "id": "86622aea-f843-44b0-8c47-a0282c67ea01",
   "metadata": {},
   "outputs": [
    {
     "data": {
      "text/plain": [
       "Text(0.5, 1.0, 'Violations change over time monthly')"
      ]
     },
     "execution_count": 43,
     "metadata": {},
     "output_type": "execute_result"
    },
    {
     "data": {
      "image/png": "[encoded data removed]",
      "text/plain": [
       "<Figure size 640x480 with 1 Axes>"
      ]
     },
     "metadata": {},
     "output_type": "display_data"
    }
   ],
   "source": [
    "sns.lineplot(x='Month', y='Record Count', data=grouped_data)\n",
    "\n",
    "# Set the Y-axis scale and format the tick labels\n",
    "# plt.ylim(0, grouped_data['Record Count'].max() * 0.3)  # Use state_summons1 for setting the Y-axis limit\n",
    "# plt.gca().yaxis.set_major_formatter(FuncFormatter(millions_formatter))\n",
    "plt.title(\"Violations change over time monthly\", fontsize= 11, color=\"red\")"
   ]
  },
  {
   "cell_type": "code",
   "execution_count": 44,
   "id": "333f1033-8056-4eb0-9131-62a283a133f8",
   "metadata": {},
   "outputs": [
    {
     "data": {
      "text/plain": [
       "Text(0.5, 1.0, 'Violations change over time yearly')"
      ]
     },
     "execution_count": 44,
     "metadata": {},
     "output_type": "execute_result"
    },
    {
     "data": {
      "image/png": "[encoded data removed]",
      "text/plain": [
       "<Figure size 640x480 with 1 Axes>"
      ]
     },
     "metadata": {},
     "output_type": "display_data"
    }
   ],
   "source": [
    "sns.lineplot(x='Year', y='Record Count', data=grouped_data)\n",
    "\n",
    "# Set the Y-axis scale and format the tick labels\n",
    "# plt.ylim(0, grouped_data['Record Count'].max() * 0.3)  # Use state_summons1 for setting the Y-axis limit\n",
    "# plt.gca().yaxis.set_major_formatter(FuncFormatter(millions_formatter))\n",
    "plt.title(\"Violations change over time yearly\", fontsize= 11, color=\"red\")"
   ]
  },
  {
   "cell_type": "code",
   "execution_count": null,
   "id": "f5b32791-e034-4207-8f41-960190a2065b",
   "metadata": {},
   "outputs": [],
   "source": []
  }
 ],
 "metadata": {
  "kernelspec": {
   "display_name": "Python 3 (ipykernel)",
   "language": "python",
   "name": "python3"
  },
  "language_info": {
   "codemirror_mode": {
    "name": "ipython",
    "version": 3
   },
   "file_extension": ".py",
   "mimetype": "text/x-python",
   "name": "python",
   "nbconvert_exporter": "python",
   "pygments_lexer": "ipython3",
   "version": "3.10.11"
  }
 },
 "nbformat": 4,
 "nbformat_minor": 5
}
