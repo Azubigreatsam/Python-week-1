{
 "cells": [
  {
   "cell_type": "code",
   "execution_count": 24,
   "id": "23be5dd4-f576-49ca-8321-9d61c03523fc",
   "metadata": {},
   "outputs": [
    {
     "name": "stdin",
     "output_type": "stream",
     "text": [
      "Charge for food:$ 50\n"
     ]
    },
    {
     "name": "stdout",
     "output_type": "stream",
     "text": [
      "Tip = $ 9.00\n",
      "Sales tax = $ 3.50\n",
      "Grand Total = $ 62.50\n"
     ]
    }
   ],
   "source": [
    "food_charge = float(input(\"Charge for food:$\"))\n",
    "tip = 0.18 * food_charge\n",
    "sales_tax = 0.07 * food_charge\n",
    "total_charge = tip + food_charge + sales_tax\n",
    "print(f\"Tip = $ {tip:.2f}\")\n",
    "print(f\"Sales tax = $ {sales_tax:.2f}\")\n",
    "print(f\"Grand Total = $ {total_charge:.2f}\")"
   ]
  },
  {
   "cell_type": "code",
   "execution_count": null,
   "id": "10c4b92e-09f6-4951-a12e-ea2f2a54293a",
   "metadata": {},
   "outputs": [],
   "source": []
  },
  {
   "cell_type": "code",
   "execution_count": 26,
   "id": "ae415e7d-1d48-4fcf-8b4c-32c5d07f9da0",
   "metadata": {},
   "outputs": [
    {
     "ename": "SyntaxError",
     "evalue": "invalid syntax (289659017.py, line 3)",
     "output_type": "error",
     "traceback": [
      "\u001b[1;36m  Cell \u001b[1;32mIn[26], line 3\u001b[1;36m\u001b[0m\n\u001b[1;33m    percent annual interest = 7.5 * mortage_loan\u001b[0m\n\u001b[1;37m            ^\u001b[0m\n\u001b[1;31mSyntaxError\u001b[0m\u001b[1;31m:\u001b[0m invalid syntax\n"
     ]
    }
   ],
   "source": [
    "mortgage_loan = float(input(\"Principal :GHS\"))\n",
    "\n",
    "percent annual interest = 7.5 * mortage_loan\n",
    "years to pay off mortgage 30\n",
    "Total Monthly payment = mortgage_loan * 7.5"
   ]
  },
  {
   "cell_type": "code",
   "execution_count": null,
   "id": "3b99a9ea-e5b5-4a5e-83a1-3ffc408bf0ca",
   "metadata": {},
   "outputs": [],
   "source": []
  },
  {
   "cell_type": "code",
   "execution_count": 27,
   "id": "c5fce828-eb4f-4ef6-8166-1e9434cfca57",
   "metadata": {},
   "outputs": [
    {
     "ename": "SyntaxError",
     "evalue": "unmatched ')' (3102858640.py, line 1)",
     "output_type": "error",
     "traceback": [
      "\u001b[1;36m  Cell \u001b[1;32mIn[27], line 1\u001b[1;36m\u001b[0m\n\u001b[1;33m    mortgage_loan = input(\"Total amount of your loan :GHS\"))\u001b[0m\n\u001b[1;37m                                                           ^\u001b[0m\n\u001b[1;31mSyntaxError\u001b[0m\u001b[1;31m:\u001b[0m unmatched ')'\n"
     ]
    }
   ],
   "source": [
    "mortgage_loan = input(\"Total amount of your loan :GHS\"))\n",
    "interest_Rate = input(\"Your interest rate\")\n",
    "repaymentLength = input(\"Total amount of months\")\n",
    "\n"
   ]
  },
  {
   "cell_type": "code",
   "execution_count": 28,
   "id": "2c998e50-c86c-4ccf-a067-aff9c367dcd5",
   "metadata": {},
   "outputs": [
    {
     "name": "stdin",
     "output_type": "stream",
     "text": [
      "How much do you want to borrow? \n",
      " 100000\n",
      "What is the interest rate on your loan? \n",
      " 7.5\n",
      "How many years to repay your loan? \n",
      " 30\n"
     ]
    },
    {
     "name": "stdout",
     "output_type": "stream",
     "text": [
      "7.5\n",
      "0.075\n",
      "You want to borrow £100000.0 over 30.0 years, with an interest rate of 7.5%!\n",
      "Your monthly repayment will be £7519.430051813471\n",
      "Your monthly repayment will be £7519.43 \n",
      "The total charge on this loan will be £2606994.82 !\n"
     ]
    }
   ],
   "source": [
    "loanAmount = input(\"How much do you want to borrow? \\n\")\n",
    "interestRate = input(\"What is the interest rate on your loan? \\n\")\n",
    "repaymentLength = input(\"How many years to repay your loan? \\n\")\n",
    "\n",
    "#converting the string input variables to float\n",
    "loanAmount = float(loanAmount)\n",
    "interestRate = float(interestRate)\n",
    "repaymentLength = float(repaymentLength)\n",
    "\n",
    "#working out the interest rate to a decimal number\n",
    "interestCalculation = interestRate / 100\n",
    "\n",
    "print(interestRate)\n",
    "print(interestCalculation)\n",
    "\n",
    "#working out the number of payments over the course of the loan period.\n",
    "numberOfPayments = repaymentLength*12\n",
    "\n",
    "#Formula\n",
    "#M = L[i(1+i)n] / [(1+i)n-1]\n",
    "\n",
    "#   * M = Monthly Payment (what were trying to find out)\n",
    "#   * L = Loan Amount (loanAmount)\n",
    "#   * I = Interest Rate (for an interest rate of 5%, i = 0.05 (interestCalculation)\n",
    "#   * N = Number of Payments (repaymentLength)\n",
    "\n",
    "monthlyRepaymentCost = loanAmount * interestCalculation * (1+interestCalculation) * numberOfPayments / ((1+interestCalculation) * numberOfPayments - 1)\n",
    "#THIS IS FROM ANOTHER BIT OF CODE THAT IS SUPPOSE TO BE RIGHT BUT ISNT---\n",
    "# repaymentCost = loanAmount * interestRate * (1+ interestRate) * numberOfPayments  / ((1 + interestRate) * numberOfPayments -1)\n",
    "\n",
    "#working out the total cost of the repayment over the full term of the loan\n",
    "totalCharge = (monthlyRepaymentCost * numberOfPayments) - loanAmount\n",
    "\n",
    "\n",
    "print(\"You want to borrow £\" + str(loanAmount) + \" over \" + str(repaymentLength) + \" years, with an interest rate of \" + str(interestRate) + \"%!\")\n",
    "\n",
    "print(\"Your monthly repayment will be £\" + str(monthlyRepaymentCost))\n",
    "\n",
    "print(\"Your monthly repayment will be £%.2f \" % monthlyRepaymentCost)\n",
    "\n",
    "print(\"The total charge on this loan will be £%.2f !\" % totalCharge)"
   ]
  }
 ],
 "metadata": {
  "kernelspec": {
   "display_name": "Python 3 (ipykernel)",
   "language": "python",
   "name": "python3"
  },
  "language_info": {
   "codemirror_mode": {
    "name": "ipython",
    "version": 3
   },
   "file_extension": ".py",
   "mimetype": "text/x-python",
   "name": "python",
   "nbconvert_exporter": "python",
   "pygments_lexer": "ipython3",
   "version": "3.10.11"
  }
 },
 "nbformat": 4,
 "nbformat_minor": 5
}
