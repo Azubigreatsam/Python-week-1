{
 "cells": [
  {
   "cell_type": "code",
   "execution_count": 1,
   "id": "4f687737-18e6-4dec-98dd-cde4a8b3d838",
   "metadata": {},
   "outputs": [],
   "source": [
    "food_charge = 120"
   ]
  },
  {
   "cell_type": "code",
   "execution_count": 7,
   "id": "7efd3bf0-8d17-483e-8eae-2518dbedfbea",
   "metadata": {},
   "outputs": [],
   "source": [
    "tips = 7.7"
   ]
  },
  {
   "cell_type": "code",
   "execution_count": 4,
   "id": "0e6da875-4739-451c-ab34-1a7f981fb4cb",
   "metadata": {},
   "outputs": [],
   "source": [
    "total = food_charge + tips"
   ]
  },
  {
   "cell_type": "code",
   "execution_count": 5,
   "id": "371b812e-b849-4d53-baa7-4c0969051cf5",
   "metadata": {},
   "outputs": [
    {
     "name": "stdout",
     "output_type": "stream",
     "text": [
      "127\n"
     ]
    }
   ],
   "source": [
    "print(total)"
   ]
  },
  {
   "cell_type": "code",
   "execution_count": 6,
   "id": "9650d8e3-ce47-4965-8bf7-a165710098a6",
   "metadata": {},
   "outputs": [],
   "source": [
    "percent_tips = 0.18"
   ]
  },
  {
   "cell_type": "code",
   "execution_count": 8,
   "id": "6f0065cf-c739-4092-82e9-ace93d723691",
   "metadata": {},
   "outputs": [],
   "source": [
    "tips_amount = percent_tips * food_charge"
   ]
  },
  {
   "cell_type": "code",
   "execution_count": 9,
   "id": "9c4b2339-62ba-4f40-98be-946b275ce108",
   "metadata": {},
   "outputs": [
    {
     "data": {
      "text/plain": [
       "21.599999999999998"
      ]
     },
     "execution_count": 9,
     "metadata": {},
     "output_type": "execute_result"
    }
   ],
   "source": [
    "tips_amount"
   ]
  },
  {
   "cell_type": "code",
   "execution_count": 10,
   "id": "6489fbae-4394-4e64-9fae-02b96012c063",
   "metadata": {},
   "outputs": [],
   "source": [
    "total_payment = tips_amount + food_charge"
   ]
  },
  {
   "cell_type": "code",
   "execution_count": 11,
   "id": "719cb468-58de-425f-9555-5154c0bf412c",
   "metadata": {},
   "outputs": [
    {
     "data": {
      "text/plain": [
       "141.6"
      ]
     },
     "execution_count": 11,
     "metadata": {},
     "output_type": "execute_result"
    }
   ],
   "source": [
    "total_payment"
   ]
  },
  {
   "cell_type": "code",
   "execution_count": null,
   "id": "65404d3b-4df9-4530-8d65-bb683847ac89",
   "metadata": {},
   "outputs": [],
   "source": []
  },
  {
   "cell_type": "code",
   "execution_count": 27,
   "id": "fd12dccb-2ee0-4fef-b0ee-767991c8b785",
   "metadata": {},
   "outputs": [],
   "source": [
    "radius = 8"
   ]
  },
  {
   "cell_type": "code",
   "execution_count": 28,
   "id": "82da7880-bdcc-4d8b-b2ac-eb35017327ec",
   "metadata": {},
   "outputs": [],
   "source": [
    "pi = 3.142"
   ]
  },
  {
   "cell_type": "code",
   "execution_count": 29,
   "id": "649b1027-8359-475a-9040-98c0c3898075",
   "metadata": {},
   "outputs": [],
   "source": [
    "area = pi * radius**2"
   ]
  },
  {
   "cell_type": "code",
   "execution_count": 30,
   "id": "f9ef8c04-4399-4022-86ef-71030297e26b",
   "metadata": {},
   "outputs": [
    {
     "data": {
      "text/plain": [
       "201.088"
      ]
     },
     "execution_count": 30,
     "metadata": {},
     "output_type": "execute_result"
    }
   ],
   "source": [
    "area"
   ]
  },
  {
   "cell_type": "code",
   "execution_count": 38,
   "id": "cad77881-c46e-4599-a297-55608ca82a83",
   "metadata": {},
   "outputs": [],
   "source": [
    "grandpa_fortune = 1600"
   ]
  },
  {
   "cell_type": "code",
   "execution_count": 43,
   "id": "c4c66016-089f-4ae0-8652-fe7abc9e3687",
   "metadata": {},
   "outputs": [],
   "source": [
    "number_grandchild = 6"
   ]
  },
  {
   "cell_type": "code",
   "execution_count": 46,
   "id": "4d4a8a6a-0168-4b85-949c-1b97de0b108e",
   "metadata": {},
   "outputs": [],
   "source": [
    "each_person = grandpa_fortune // number_grandchild"
   ]
  },
  {
   "cell_type": "code",
   "execution_count": 47,
   "id": "fe732f11-5f5b-42c3-b9ad-856646ba9260",
   "metadata": {},
   "outputs": [
    {
     "data": {
      "text/plain": [
       "266"
      ]
     },
     "execution_count": 47,
     "metadata": {},
     "output_type": "execute_result"
    }
   ],
   "source": [
    "each_person"
   ]
  },
  {
   "cell_type": "code",
   "execution_count": 59,
   "id": "538a4204-1dcf-495f-a7d1-ce374ccdfd39",
   "metadata": {},
   "outputs": [
    {
     "data": {
      "text/plain": [
       "0"
      ]
     },
     "execution_count": 59,
     "metadata": {},
     "output_type": "execute_result"
    }
   ],
   "source": [
    "30%6"
   ]
  },
  {
   "cell_type": "code",
   "execution_count": 60,
   "id": "8ed8721c-b4d8-4001-bef2-f15c5ce4a7ca",
   "metadata": {},
   "outputs": [
    {
     "data": {
      "text/plain": [
       "3"
      ]
     },
     "execution_count": 60,
     "metadata": {},
     "output_type": "execute_result"
    }
   ],
   "source": [
    "45%7"
   ]
  },
  {
   "cell_type": "code",
   "execution_count": 61,
   "id": "e345b4d5-d072-4aac-9a49-db57b2f91d29",
   "metadata": {},
   "outputs": [
    {
     "name": "stdout",
     "output_type": "stream",
     "text": [
      "My name is John Doe\n"
     ]
    }
   ],
   "source": [
    "print(\"My name is\" \" \" \"John Doe\")"
   ]
  },
  {
   "cell_type": "code",
   "execution_count": 63,
   "id": "ce2c4eb5-419f-4d46-8e81-814950562b1a",
   "metadata": {},
   "outputs": [
    {
     "name": "stdout",
     "output_type": "stream",
     "text": [
      "My total payment is 141.6\n"
     ]
    }
   ],
   "source": [
    "print(\"My total payment is\", total_payment)"
   ]
  },
  {
   "cell_type": "code",
   "execution_count": 65,
   "id": "1631d0ae-86ce-48c1-9d68-6cd6a387fa85",
   "metadata": {},
   "outputs": [
    {
     "name": "stdout",
     "output_type": "stream",
     "text": [
      "My total payment is $141.6\n"
     ]
    }
   ],
   "source": [
    "print(f\"My total payment is ${total_payment}\")"
   ]
  },
  {
   "cell_type": "code",
   "execution_count": 66,
   "id": "ef010c79-ed2a-4148-81ee-70fa8906bac5",
   "metadata": {},
   "outputs": [],
   "source": [
    "full_name = \"Samuel Adjarnor\""
   ]
  },
  {
   "cell_type": "code",
   "execution_count": 73,
   "id": "38e9a7c1-0dd4-4654-a8dc-2da284b2e42d",
   "metadata": {},
   "outputs": [],
   "source": [
    "Occupation = \"Software Engineer\"\n"
   ]
  },
  {
   "cell_type": "code",
   "execution_count": 74,
   "id": "0ff06d75-c43c-4613-b0de-ff7c97f6cb7f",
   "metadata": {},
   "outputs": [],
   "source": [
    "Hobby = \"Making money\""
   ]
  },
  {
   "cell_type": "code",
   "execution_count": 83,
   "id": "ee899f23-2a33-4abc-9327-b691a9557d5d",
   "metadata": {},
   "outputs": [
    {
     "data": {
      "text/plain": [
       "141.6"
      ]
     },
     "execution_count": 83,
     "metadata": {},
     "output_type": "execute_result"
    }
   ],
   "source": [
    "total_payment"
   ]
  },
  {
   "cell_type": "code",
   "execution_count": 85,
   "id": "4b4cced4-d4a1-4369-8ff4-08ee11d4dc86",
   "metadata": {},
   "outputs": [
    {
     "name": "stdout",
     "output_type": "stream",
     "text": [
      "$141.6000\n"
     ]
    }
   ],
   "source": [
    "print(f'${total_payment:.4f}')"
   ]
  },
  {
   "cell_type": "code",
   "execution_count": 79,
   "id": "23bf0219-122d-4a6e-a973-5aaaf4586322",
   "metadata": {},
   "outputs": [
    {
     "name": "stdout",
     "output_type": "stream",
     "text": [
      "My name is Samuel Adjarnor i am a Software Engineer  and i like Making money\n"
     ]
    }
   ],
   "source": [
    "print(f\"My name is {full_name}\", f\"i am a {Occupation}\", f\" and i like {Hobby}\")"
   ]
  },
  {
   "cell_type": "code",
   "execution_count": 82,
   "id": "f2c96d73-17f7-4f5a-9cad-1c806fe279f2",
   "metadata": {},
   "outputs": [
    {
     "name": "stdout",
     "output_type": "stream",
     "text": [
      "My name is Samuel Adjarnor , i am an Software Engineer, and i like Making money\n"
     ]
    }
   ],
   "source": [
    "print(\"My name is {} , i am an {}, and i like {}\".format(full_name, Occupation, Hobby))"
   ]
  },
  {
   "cell_type": "code",
   "execution_count": null,
   "id": "6f178558-c493-4898-82aa-515b40264428",
   "metadata": {},
   "outputs": [],
   "source": []
  },
  {
   "cell_type": "code",
   "execution_count": 90,
   "id": "f9a7b496-f643-4670-8b1a-19a91e04876a",
   "metadata": {},
   "outputs": [
    {
     "name": "stdin",
     "output_type": "stream",
     "text": [
      "Enter your fullname: Samuel Adjarnor\n"
     ]
    }
   ],
   "source": [
    "fullname = input(\"Enter your fullname:\")"
   ]
  },
  {
   "cell_type": "code",
   "execution_count": 97,
   "id": "8a6aead4-3911-49d8-864d-ca1f8ff3f0e1",
   "metadata": {},
   "outputs": [
    {
     "name": "stdin",
     "output_type": "stream",
     "text": [
      "Enter the name of a country: Belgium\n"
     ]
    }
   ],
   "source": [
    "country = input(\"Enter the name of a country:\")"
   ]
  },
  {
   "cell_type": "code",
   "execution_count": 98,
   "id": "c196eae6-214f-4b7b-9f2a-18e490dbe5df",
   "metadata": {},
   "outputs": [
    {
     "name": "stdin",
     "output_type": "stream",
     "text": [
      "Enter any interesting word: Giant\n"
     ]
    }
   ],
   "source": [
    "any_word = input(\"Enter any interesting word:\")"
   ]
  },
  {
   "cell_type": "code",
   "execution_count": 99,
   "id": "065acf74-85ad-402e-bc7e-9601cb95f505",
   "metadata": {},
   "outputs": [
    {
     "name": "stdout",
     "output_type": "stream",
     "text": [
      "Your football team name is The Belgium-Giant\n"
     ]
    }
   ],
   "source": [
    "print(f\"Your football team name is The {country}-{any_word}\")"
   ]
  },
  {
   "cell_type": "code",
   "execution_count": null,
   "id": "e5843f40-4e3e-4561-91af-03097962a437",
   "metadata": {},
   "outputs": [],
   "source": []
  }
 ],
 "metadata": {
  "kernelspec": {
   "display_name": "Python 3 (ipykernel)",
   "language": "python",
   "name": "python3"
  },
  "language_info": {
   "codemirror_mode": {
    "name": "ipython",
    "version": 3
   },
   "file_extension": ".py",
   "mimetype": "text/x-python",
   "name": "python",
   "nbconvert_exporter": "python",
   "pygments_lexer": "ipython3",
   "version": "3.10.11"
  }
 },
 "nbformat": 4,
 "nbformat_minor": 5
}
