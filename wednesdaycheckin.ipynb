{
 "cells": [
  {
   "cell_type": "code",
   "execution_count": 17,
   "id": "a931ca29-b27f-4d70-ba2c-ab91563c2dcb",
   "metadata": {},
   "outputs": [
    {
     "data": {
      "text/plain": [
       "'niaiaI'"
      ]
     },
     "execution_count": 17,
     "metadata": {},
     "output_type": "execute_result"
    }
   ],
   "source": [
    "\"Imagination\"[::-2]"
   ]
  },
  {
   "cell_type": "code",
   "execution_count": null,
   "id": "4324fde1-bc97-40b5-9e97-a63e6b2c63bb",
   "metadata": {},
   "outputs": [],
   "source": [
    "-5-4-3-2-1 0 1 2 3 4 5"
   ]
  },
  {
   "cell_type": "code",
   "execution_count": 18,
   "id": "93f1d18a-fca1-4810-9538-79b67ce539ea",
   "metadata": {},
   "outputs": [],
   "source": [
    "#startswith"
   ]
  },
  {
   "cell_type": "code",
   "execution_count": 19,
   "id": "5cbf0963-0391-4080-93a5-a5a167556d1a",
   "metadata": {},
   "outputs": [
    {
     "name": "stdin",
     "output_type": "stream",
     "text": [
      "Enter your id:  123\n"
     ]
    }
   ],
   "source": [
    "customerid = input(\"Enter your id: \")"
   ]
  },
  {
   "cell_type": "code",
   "execution_count": 20,
   "id": "2a350024-b9f1-4b4a-b61c-93d9b0f33558",
   "metadata": {},
   "outputs": [
    {
     "data": {
      "text/plain": [
       "False"
      ]
     },
     "execution_count": 20,
     "metadata": {},
     "output_type": "execute_result"
    }
   ],
   "source": [
    "customerid.startswith(\"HYT\")"
   ]
  },
  {
   "cell_type": "code",
   "execution_count": 21,
   "id": "e6465601-1080-414d-aba5-92134d782e4e",
   "metadata": {},
   "outputs": [],
   "source": [
    "#endswith"
   ]
  },
  {
   "cell_type": "code",
   "execution_count": 25,
   "id": "b7eb92a5-8704-4666-a6fd-def1c44e8c55",
   "metadata": {},
   "outputs": [
    {
     "name": "stdin",
     "output_type": "stream",
     "text": [
      "Enter your full name: kofi kwame\n"
     ]
    }
   ],
   "source": [
    "familyname = input(\"Enter your full name:\")"
   ]
  },
  {
   "cell_type": "code",
   "execution_count": 26,
   "id": "200fc82b-cdbe-43de-b334-924d80f151e2",
   "metadata": {},
   "outputs": [
    {
     "data": {
      "text/plain": [
       "False"
      ]
     },
     "execution_count": 26,
     "metadata": {},
     "output_type": "execute_result"
    }
   ],
   "source": [
    "familyname.endswith(\"Smith\")"
   ]
  },
  {
   "cell_type": "code",
   "execution_count": 27,
   "id": "f01128ed-958f-48e2-8d92-c3c30b123250",
   "metadata": {},
   "outputs": [],
   "source": [
    "#isalpha"
   ]
  },
  {
   "cell_type": "code",
   "execution_count": 28,
   "id": "374efc43-981a-4a95-94d8-dca28358badb",
   "metadata": {},
   "outputs": [
    {
     "name": "stdin",
     "output_type": "stream",
     "text": [
      "Enter your username: kwame\n"
     ]
    }
   ],
   "source": [
    "username = input(\"Enter your username:\")"
   ]
  },
  {
   "cell_type": "code",
   "execution_count": 30,
   "id": "0434618f-6923-421c-b3d3-87d33c6f34ed",
   "metadata": {},
   "outputs": [
    {
     "data": {
      "text/plain": [
       "True"
      ]
     },
     "execution_count": 30,
     "metadata": {},
     "output_type": "execute_result"
    }
   ],
   "source": [
    "username.isalpha()"
   ]
  },
  {
   "cell_type": "code",
   "execution_count": 31,
   "id": "432694b1-c24d-4573-8484-9c2af32ebd78",
   "metadata": {},
   "outputs": [],
   "source": [
    "#isdigit"
   ]
  },
  {
   "cell_type": "code",
   "execution_count": 32,
   "id": "41a32ba3-3623-42a4-b8d9-67d8a24ebff8",
   "metadata": {},
   "outputs": [
    {
     "name": "stdin",
     "output_type": "stream",
     "text": [
      "Enter your age:  12\n"
     ]
    }
   ],
   "source": [
    "age = input(\"Enter your age: \")"
   ]
  },
  {
   "cell_type": "code",
   "execution_count": 33,
   "id": "2ea0bef3-ca56-4df3-af19-81f0e813ec79",
   "metadata": {},
   "outputs": [],
   "source": [
    "# isspace"
   ]
  },
  {
   "cell_type": "code",
   "execution_count": null,
   "id": "558dc100-9a34-40bf-b8c9-7f8bfd29c7e7",
   "metadata": {},
   "outputs": [],
   "source": [
    "email = input(\"Enter your email:\")"
   ]
  },
  {
   "cell_type": "code",
   "execution_count": null,
   "id": "8e4e821e-f020-4cdf-92fc-bd197eea5f91",
   "metadata": {},
   "outputs": [],
   "source": [
    "\"imagination\""
   ]
  },
  {
   "cell_type": "code",
   "execution_count": null,
   "id": "1e92e2e7-c03d-462f-8dcd-3b6e7da2940f",
   "metadata": {},
   "outputs": [],
   "source": [
    "# find"
   ]
  },
  {
   "cell_type": "code",
   "execution_count": 36,
   "id": "ad1d0045-24ed-476c-8273-9a2722e8736c",
   "metadata": {},
   "outputs": [],
   "source": [
    "#index"
   ]
  },
  {
   "cell_type": "code",
   "execution_count": 37,
   "id": "8518383a-d691-4a09-bb88-9ca6a63a6d89",
   "metadata": {},
   "outputs": [],
   "source": [
    "# count"
   ]
  },
  {
   "cell_type": "code",
   "execution_count": 38,
   "id": "5900c74e-d960-4ede-b56e-8c53143f0447",
   "metadata": {},
   "outputs": [],
   "source": [
    "#split"
   ]
  },
  {
   "cell_type": "code",
   "execution_count": null,
   "id": "967ed079-7faf-4612-9c18-2234dbbee110",
   "metadata": {},
   "outputs": [],
   "source": [
    "msg = \"let-us-be-happy\""
   ]
  },
  {
   "cell_type": "code",
   "execution_count": 43,
   "id": "460746c4-17a9-4a93-8a18-3ab645f610a3",
   "metadata": {},
   "outputs": [
    {
     "ename": "NameError",
     "evalue": "name 'msg' is not defined",
     "output_type": "error",
     "traceback": [
      "\u001b[1;31m---------------------------------------------------------------\u001b[0m",
      "\u001b[1;31mNameError\u001b[0m                     Traceback (most recent call last)",
      "Cell \u001b[1;32mIn[43], line 1\u001b[0m\n\u001b[1;32m----> 1\u001b[0m \u001b[43mmsg\u001b[49m\u001b[38;5;241m.\u001b[39msplit(\u001b[38;5;124m\"\u001b[39m\u001b[38;5;124m \u001b[39m\u001b[38;5;124m\"\u001b[39m)\n",
      "\u001b[1;31mNameError\u001b[0m: name 'msg' is not defined"
     ]
    }
   ],
   "source": [
    "msg.split(\" \")"
   ]
  },
  {
   "cell_type": "code",
   "execution_count": 40,
   "id": "59a68416-0ff4-4c91-a101-0ac2a4e4b945",
   "metadata": {},
   "outputs": [],
   "source": [
    "# join"
   ]
  },
  {
   "cell_type": "code",
   "execution_count": null,
   "id": "95bc097e-9cbc-474b-ac3d-8dee502dfe30",
   "metadata": {},
   "outputs": [],
   "source": [
    "[\"Jumping\",\"is\",\"a\",\"hobby\"]"
   ]
  },
  {
   "cell_type": "code",
   "execution_count": 42,
   "id": "44e7c422-ac99-4cff-a04d-059e9ab3f524",
   "metadata": {},
   "outputs": [
    {
     "data": {
      "text/plain": [
       "'Jumping is a hobby'"
      ]
     },
     "execution_count": 42,
     "metadata": {},
     "output_type": "execute_result"
    }
   ],
   "source": [
    "' '.join([\"Jumping\",\"is\",\"a\",\"hobby\"])"
   ]
  },
  {
   "cell_type": "code",
   "execution_count": 49,
   "id": "70ea71db-b763-4de9-a4be-d1c251010951",
   "metadata": {},
   "outputs": [],
   "source": [
    "# replace"
   ]
  },
  {
   "cell_type": "code",
   "execution_count": null,
   "id": "60af3b1e-2ca6-417f-9d2c-bd8fbc88146e",
   "metadata": {},
   "outputs": [],
   "source": [
    "# upper\n",
    ".upper()"
   ]
  },
  {
   "cell_type": "code",
   "execution_count": null,
   "id": "b809e519-be25-404b-a5e3-cdbdcc495c63",
   "metadata": {},
   "outputs": [],
   "source": [
    "#lower\n",
    ".lower()"
   ]
  },
  {
   "cell_type": "code",
   "execution_count": 47,
   "id": "18d699c3-a066-415f-a8d7-44826eb60316",
   "metadata": {},
   "outputs": [],
   "source": [
    "# capitalize"
   ]
  },
  {
   "cell_type": "code",
   "execution_count": null,
   "id": "b55ca2fe-9eec-4046-9ff5-a789c3c25e0f",
   "metadata": {},
   "outputs": [],
   "source": [
    "#Title"
   ]
  },
  {
   "cell_type": "code",
   "execution_count": null,
   "id": "344e1cf2-69b1-4e22-ae86-4bcff67e6cc4",
   "metadata": {},
   "outputs": [],
   "source": [
    "#Type casting"
   ]
  },
  {
   "cell_type": "code",
   "execution_count": 51,
   "id": "ed63811b-8b7b-44d8-b1e0-4f0901ff5fb5",
   "metadata": {},
   "outputs": [],
   "source": [
    "x = \"14\"\n",
    "c = float(x)"
   ]
  },
  {
   "cell_type": "code",
   "execution_count": 52,
   "id": "b233ebbe-d341-41dd-a5db-058dbfabb113",
   "metadata": {},
   "outputs": [
    {
     "data": {
      "text/plain": [
       "float"
      ]
     },
     "execution_count": 52,
     "metadata": {},
     "output_type": "execute_result"
    }
   ],
   "source": [
    "type(c)"
   ]
  },
  {
   "cell_type": "code",
   "execution_count": 54,
   "id": "68e66ee5-bb75-4370-b455-9042b57deeaf",
   "metadata": {},
   "outputs": [
    {
     "data": {
      "text/plain": [
       "True"
      ]
     },
     "execution_count": 54,
     "metadata": {},
     "output_type": "execute_result"
    }
   ],
   "source": [
    "bool(1)"
   ]
  },
  {
   "cell_type": "code",
   "execution_count": 59,
   "id": "123d216c-5edc-45a6-b1f0-788633367efc",
   "metadata": {},
   "outputs": [],
   "source": [
    "#write a program that takes two digit number i.e., 10-99 and returns the sum of the digits e.g.(34,7)\n"
   ]
  },
  {
   "cell_type": "code",
   "execution_count": 68,
   "id": "255f5ef1-8e40-42c3-8213-9eb5486070be",
   "metadata": {},
   "outputs": [
    {
     "name": "stdin",
     "output_type": "stream",
     "text": [
      "Enter the number:  99\n"
     ]
    }
   ],
   "source": [
    "num1 = input(\"Enter the number: \")"
   ]
  },
  {
   "cell_type": "code",
   "execution_count": 69,
   "id": "fac0e44c-cba0-4177-a148-31b95cc02e78",
   "metadata": {},
   "outputs": [],
   "source": [
    "first_digit = int(num1[0])"
   ]
  },
  {
   "cell_type": "code",
   "execution_count": 70,
   "id": "effc591b-9cd5-4c5e-9d20-d8972206d703",
   "metadata": {},
   "outputs": [],
   "source": [
    "second_digit = int(num1[1])"
   ]
  },
  {
   "cell_type": "code",
   "execution_count": 71,
   "id": "9f818739-ec77-4169-813d-a1c17494c6cb",
   "metadata": {},
   "outputs": [],
   "source": [
    "result = first_digit + second_digit"
   ]
  },
  {
   "cell_type": "code",
   "execution_count": 72,
   "id": "725cead8-4a68-4bcd-a1da-de72d6441d39",
   "metadata": {},
   "outputs": [
    {
     "data": {
      "text/plain": [
       "18"
      ]
     },
     "execution_count": 72,
     "metadata": {},
     "output_type": "execute_result"
    }
   ],
   "source": [
    "result"
   ]
  },
  {
   "cell_type": "code",
   "execution_count": null,
   "id": "a7371cc9-8493-4445-a9f8-76338cccd7ce",
   "metadata": {},
   "outputs": [],
   "source": [
    "#Bugs and Debugging\n",
    "#Name error\n",
    "#syntax error\n",
    "#type error str()\n",
    "#index error\n",
    "#"
   ]
  },
  {
   "cell_type": "code",
   "execution_count": null,
   "id": "aa8cbd82-56c4-45d6-817c-781bea7cb436",
   "metadata": {},
   "outputs": [],
   "source": [
    "# Project 2- love calculator"
   ]
  },
  {
   "cell_type": "code",
   "execution_count": null,
   "id": "653b8dbb-9ead-4763-a5c6-f287f118a783",
   "metadata": {},
   "outputs": [],
   "source": [
    "Heldana Rhamadhan"
   ]
  },
  {
   "cell_type": "code",
   "execution_count": null,
   "id": "5fce763a-ddaa-479e-8a26-871ba54d85fc",
   "metadata": {},
   "outputs": [],
   "source": []
  },
  {
   "cell_type": "code",
   "execution_count": 74,
   "id": "efc7f7a3-38ae-4fc6-af56-edb9e1b81465",
   "metadata": {},
   "outputs": [
    {
     "name": "stdin",
     "output_type": "stream",
     "text": [
      "Enter your name:  Ramadhan Mwenda\n",
      "Enter your crush's name:  Heldana Natnael Ambaw\n"
     ]
    },
    {
     "name": "stdout",
     "output_type": "stream",
     "text": [
      "Your True Love Score is 45\n"
     ]
    }
   ],
   "source": [
    "first_name = input(\"Enter your name: \")\n",
    "second_name = input(\"Enter your crush's name: \")\n",
    "combine_name = first_name + second_name\n",
    "t = combine_name.count('t')\n",
    "r = combine_name.count('r')\n",
    "u = combine_name.count('u')\n",
    "e = combine_name.count('e')\n",
    "true = t+r+u+e\n",
    "l = combine_name.count('l')\n",
    "o = combine_name.count('o')\n",
    "v = combine_name.count('v')\n",
    "e = combine_name.count('e')\n",
    "love = l+o+v+e\n",
    "\n",
    "truelove = str(true) + str(love)\n",
    "print(f'Your True Love Score is {truelove}')"
   ]
  }
 ],
 "metadata": {
  "kernelspec": {
   "display_name": "Python 3 (ipykernel)",
   "language": "python",
   "name": "python3"
  },
  "language_info": {
   "codemirror_mode": {
    "name": "ipython",
    "version": 3
   },
   "file_extension": ".py",
   "mimetype": "text/x-python",
   "name": "python",
   "nbconvert_exporter": "python",
   "pygments_lexer": "ipython3",
   "version": "3.10.11"
  }
 },
 "nbformat": 4,
 "nbformat_minor": 5
}
