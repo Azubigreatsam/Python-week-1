{
 "cells": [
  {
   "cell_type": "code",
   "execution_count": 2,
   "id": "b165c2ef-01b0-4931-bf06-fce8252cdf23",
   "metadata": {},
   "outputs": [],
   "source": [
    "john_age = 25\n",
    "jane_age = 23\n",
    "\n",
    "vanis_age = 12\n",
    "victor_age = 14"
   ]
  },
  {
   "cell_type": "code",
   "execution_count": 3,
   "id": "9aed4e0a-edd6-45cc-a8ca-5cbafcda6dab",
   "metadata": {},
   "outputs": [
    {
     "data": {
      "text/plain": [
       "False"
      ]
     },
     "execution_count": 3,
     "metadata": {},
     "output_type": "execute_result"
    }
   ],
   "source": [
    "# (john_age == jane_age) and (vanis_age == victor_age)\n",
    "\n"
   ]
  },
  {
   "cell_type": "code",
   "execution_count": null,
   "id": "206a2add-2e9e-4808-966e-a5ec38394006",
   "metadata": {},
   "outputs": [],
   "source": [
    "# conditional statement\n",
    "they check whether True or False to taken action\n",
    "IF statement - either True or False\n",
    "ELIF statement\n",
    "ELSE statement\n"
   ]
  },
  {
   "cell_type": "code",
   "execution_count": 12,
   "id": "a858dee7-91e3-4854-8ea6-efe879c22640",
   "metadata": {},
   "outputs": [
    {
     "name": "stdin",
     "output_type": "stream",
     "text": [
      "Enter your full name:  Vanis Smith\n"
     ]
    }
   ],
   "source": [
    "family_event = input(\"Enter your full name: \")\n",
    "# result = family_event.endswith('Smith'):"
   ]
  },
  {
   "cell_type": "code",
   "execution_count": 9,
   "id": "e0774e13-7429-4e17-86b1-d10da96d496a",
   "metadata": {},
   "outputs": [],
   "source": [
    "if result:\n",
    "    print(\"Yes I am part of the smith family! \")"
   ]
  },
  {
   "cell_type": "code",
   "execution_count": null,
   "id": "6c87846f-19d7-4dd9-97c5-837ff91ff23c",
   "metadata": {},
   "outputs": [],
   "source": [
    "# Else structure"
   ]
  },
  {
   "cell_type": "code",
   "execution_count": 15,
   "id": "0afd127f-58f1-4443-a8c5-eeec05dc1eb4",
   "metadata": {},
   "outputs": [
    {
     "name": "stdin",
     "output_type": "stream",
     "text": [
      "Enter your full name, with your family name last:  Jane Doe\n"
     ]
    }
   ],
   "source": [
    "family_event = input(\"Enter your full name, with your family name last: \")"
   ]
  },
  {
   "cell_type": "code",
   "execution_count": 16,
   "id": "6fd169cc-7a08-4a0d-a072-addf8636701e",
   "metadata": {},
   "outputs": [
    {
     "name": "stdout",
     "output_type": "stream",
     "text": [
      "You are not eligible for the party\n"
     ]
    }
   ],
   "source": [
    "if family_event.endswith(\"Smith\"):\n",
    "    print(\"You are eligible for the party\")\n",
    "else:\n",
    "    print(\"You are not eligible for the party\")\n",
    "    "
   ]
  },
  {
   "cell_type": "code",
   "execution_count": null,
   "id": "30e81f71-b774-4073-96ac-137b577c46bf",
   "metadata": {},
   "outputs": [],
   "source": [
    "# Elif structure"
   ]
  },
  {
   "cell_type": "code",
   "execution_count": 28,
   "id": "c0798832-5809-4509-a6dd-c0b0490cd878",
   "metadata": {
    "jupyter": {
     "source_hidden": true
    }
   },
   "outputs": [
    {
     "name": "stdin",
     "output_type": "stream",
     "text": [
      "Enter your full name:  Smith Evans\n",
      "Enter your age:  17\n"
     ]
    }
   ],
   "source": [
    "family_event = input(\"Enter your full name: \").title()\n",
    "age = int(input(\"Enter your age: \"))"
   ]
  },
  {
   "cell_type": "code",
   "execution_count": 29,
   "id": "02c48b62-f40a-4027-aece-f48ff86a307d",
   "metadata": {},
   "outputs": [
    {
     "name": "stdout",
     "output_type": "stream",
     "text": [
      "Sorry too young\n"
     ]
    }
   ],
   "source": [
    "if family_event.startswith(\"Smith\"):\n",
    "    if age > 18:\n",
    "        print(f\"You passed! {family_event}\")\n",
    "    else:\n",
    "        print(\"Sorry too young\")"
   ]
  },
  {
   "cell_type": "code",
   "execution_count": null,
   "id": "952f992b-9ede-4887-9eaa-6267c308b8c0",
   "metadata": {},
   "outputs": [],
   "source": [
    "# Data structures\n",
    "\n",
    "list [] - mutable\n",
    "tuples() - immutable"
   ]
  },
  {
   "cell_type": "code",
   "execution_count": 30,
   "id": "8858bc3f-3a93-4bd4-a377-32639170b6a2",
   "metadata": {},
   "outputs": [
    {
     "data": {
      "text/plain": [
       "list"
      ]
     },
     "execution_count": 30,
     "metadata": {},
     "output_type": "execute_result"
    }
   ],
   "source": [
    "type([])"
   ]
  },
  {
   "cell_type": "code",
   "execution_count": null,
   "id": "26b0faab-c76c-4a78-a62f-478ae49d0674",
   "metadata": {},
   "outputs": [],
   "source": []
  }
 ],
 "metadata": {
  "kernelspec": {
   "display_name": "Python 3 (ipykernel)",
   "language": "python",
   "name": "python3"
  },
  "language_info": {
   "codemirror_mode": {
    "name": "ipython",
    "version": 3
   },
   "file_extension": ".py",
   "mimetype": "text/x-python",
   "name": "python",
   "nbconvert_exporter": "python",
   "pygments_lexer": "ipython3",
   "version": "3.10.11"
  }
 },
 "nbformat": 4,
 "nbformat_minor": 5
}
