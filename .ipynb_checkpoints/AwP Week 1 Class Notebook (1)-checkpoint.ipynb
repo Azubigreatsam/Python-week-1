{
 "cells": [
  {
   "cell_type": "markdown",
   "id": "795e26a0-7e40-47d4-ad73-8fef838013f1",
   "metadata": {},
   "source": [
    "# Welcome to Python\n",
    "\n",
    "Python programs will typically have input and output. This lesson will show how to print values \n",
    "to the screen and allow the end user to type in a value. In Python, both of these are reall \r\n",
    "straightforwar\n",
    "\n",
    "\n",
    "## Simple Output\n",
    "The easiest way to provide the user with output is to use the `print` function, which writes \n",
    "tothe screen (standard out)t. Standard out is where th  computer writes its output.\n",
    "d."
   ]
  },
  {
   "cell_type": "code",
   "execution_count": null,
   "id": "be3ce362-1fc8-41fb-9792-4be6f96df0e8",
   "metadata": {},
   "outputs": [],
   "source": [
    "print('Hello Azubi Analyst')"
   ]
  },
  {
   "cell_type": "markdown",
   "id": "d3607cdb-d2c8-4bdc-a616-de58fe604985",
   "metadata": {},
   "source": [
    "Print the ff:\n",
    "```{python}\n",
    "# Exercise 1\n",
    "print('I am', 'new', 'to Python')\n",
    "\n",
    "# Exercise 2\n",
    "print('Hello World, I am now a Programmer')\n",
    "```"
   ]
  },
  {
   "cell_type": "code",
   "execution_count": null,
   "id": "a905046b-9f49-4218-8de2-f7c598e72968",
   "metadata": {},
   "outputs": [],
   "source": [
    "# Exercise 1\n",
    "print('I am', 'new', 'to Python')"
   ]
  },
  {
   "cell_type": "code",
   "execution_count": 1,
   "id": "1686f74d-8684-4cf7-912b-adbec28d0b31",
   "metadata": {},
   "outputs": [
    {
     "name": "stdout",
     "output_type": "stream",
     "text": [
      "Hello World I am now a Programmer\n"
     ]
    }
   ],
   "source": [
    "print('Hello World I am now a Programmer')"
   ]
  },
  {
   "cell_type": "code",
   "execution_count": null,
   "id": "aca08ce0-f49d-4703-ad08-d9a375312d7b",
   "metadata": {},
   "outputs": [],
   "source": [
    "# Exercise 2\n",
    "print('Hello World I am now a Programmer')"
   ]
  },
  {
   "cell_type": "markdown",
   "id": "dfe63aa8-1310-46bd-83ff-5102db650561",
   "metadata": {},
   "source": [
    "## Getting User Input\n",
    "\n",
    "\n",
    "The built-in `input` function will read text from a terminal. This function accepts text which it prints out as a prompt to the screen and waits until the user types something in  *the input box (standard in) and hits enter*. *Standard in is where the computer reads its input*. "
   ]
  },
  {
   "cell_type": "code",
   "execution_count": 2,
   "id": "be66d2b8-ae23-46d4-9bee-e4002f72d068",
   "metadata": {},
   "outputs": [
    {
     "name": "stdin",
     "output_type": "stream",
     "text": [
      "Enter your name: Samuel Adjarnor\n"
     ]
    },
    {
     "data": {
      "text/plain": [
       "'Samuel Adjarnor'"
      ]
     },
     "execution_count": 2,
     "metadata": {},
     "output_type": "execute_result"
    }
   ],
   "source": [
    "input('Enter your name:')"
   ]
  },
  {
   "cell_type": "markdown",
   "id": "ba47350a-4974-47a0-a114-a0a3add9cba8",
   "metadata": {},
   "source": [
    "> The value entered into the terminal when input is called is always a `string`.\n",
    "\n",
    "\n",
    "## Exercises\n",
    "```{python}\n",
    "\n",
    "# Exercise 3\n",
    "Create some Python code that will prompt you to enter your name. Print out Hello \n",
    "and then the name.\n",
    "\n",
    "# Exercise 4\n",
    "Create some Python code that will prompt you to enter your name. Print out Hello \n",
    "and then the name.\n",
    "```"
   ]
  },
  {
   "cell_type": "code",
   "execution_count": null,
   "id": "2b60604b-5d48-40bb-8726-b4d0998bac0f",
   "metadata": {},
   "outputs": [],
   "source": [
    "# Exercise 3\n",
    "\n",
    "name = input('Please enter your name: ')\n",
    "\n",
    "print('Hello', name)"
   ]
  },
  {
   "cell_type": "code",
   "execution_count": null,
   "id": "2a55558d-6611-477d-b15f-64a114165d74",
   "metadata": {},
   "outputs": [],
   "source": [
    "# Exercise 4\n"
   ]
  },
  {
   "cell_type": "markdown",
   "id": "6d974418-e400-4ee1-9a05-e58386b05d73",
   "metadata": {},
   "source": [
    "# Variables\n",
    "\n",
    "Variables are the basic building blocks of computer programs. Variables are important in Python, because in the Python world, everything is an `object`. Variables allow you to attach names to\n",
    "these objects so you can refer to them in future code.\n",
    "\n",
    "\n",
    "## Mutation and State\n",
    "Two important programming concepts are *state* and *mutation*. \n",
    "\n",
    "*State* deals with a digital representation of a model (current status). For example, if you want to model a light bulb, you may want to store its current status—is it *on* or *off*?\n",
    "\n",
    "*Mutation* deals with changing the state to a new or different state. For the light bulb example, it could be useful to have a *power switch that toggles the state and changes it from off to on*.\n",
    "\n",
    "*How is this related to variables? Remember that in Python everything is an object. Objects have state, and might be mutated. To keep track of these objects, you use variables.*\n",
    "\n",
    "\n",
    "## Python variables are like tags\n",
    "*Variables* are the building blocks of keeping track of state. You might think of a variable as a label or tag. Important information is tagged with a variable name. To continue the light bulb example, suppose that you want to remember the state of your light bulb. \n",
    "\n",
    "Having that data is only useful if you have access to it. If you want to access it and keep track of its state you need to have a variable to tag that data.\n",
    "\n",
    "For e.g. the state of the light bulb is stored in a variable named `status`.\n"
   ]
  },
  {
   "cell_type": "code",
   "execution_count": 3,
   "id": "ebdb3c80-6d18-43db-ab3c-4d00773d937e",
   "metadata": {},
   "outputs": [
    {
     "name": "stdout",
     "output_type": "stream",
     "text": [
      "off\n"
     ]
    }
   ],
   "source": [
    "status = 'off'\n",
    "\n",
    "print(status)"
   ]
  },
  {
   "cell_type": "markdown",
   "id": "93f7a833-7342-47e8-a81d-601a7b89f47b",
   "metadata": {},
   "source": [
    "Note the ff:\n",
    "\n",
    "> Starting \n",
    "from the right, there is the word \"off\" surrounded by quotes. This is a string literal, or  built-in datatype that Python has special syntax for. The quotes tell Python that this object\r\n",
    "is a string. So Python will create a string object. A string stores textual data—in this case \r\n",
    "the letters of\n",
    "\n",
    "\n",
    "> The `=` sign is the assignment operator in many programming languages. Do not be afraid \n",
    "of these technical terms, they are more benign than they appear. The assignment operato \r\n",
    "connects or binds together a variable name and its object. It indicates that the name on t e\r\n",
    "left of it is a variable that will hold the object on the right. In this case, the variable name is\r\n",
    "status.f.a"
   ]
  },
  {
   "cell_type": "markdown",
   "id": "336f822f-c43c-4b24-ba13-faa3c1001ba7",
   "metadata": {},
   "source": [
    "Exercises:\n",
    "\n",
    "```{python}\n",
    "\n",
    "# Exercise 4\n",
    "wattage = '120 watt'\n",
    "incandescent = wattage\n",
    "print(incandescent, wattage)\n",
    "\n",
    "```"
   ]
  },
  {
   "cell_type": "code",
   "execution_count": 4,
   "id": "0ebf99da-0c9b-4f80-9ada-798c805728fd",
   "metadata": {},
   "outputs": [
    {
     "name": "stdout",
     "output_type": "stream",
     "text": [
      "120 watt\n"
     ]
    }
   ],
   "source": [
    "# Exercise 4\n",
    "wattage = '120 watt'\n",
    "\n",
    "print(wattage)"
   ]
  },
  {
   "cell_type": "code",
   "execution_count": 5,
   "id": "0aae64b2-0849-4918-ada1-a32b91fe4953",
   "metadata": {},
   "outputs": [
    {
     "name": "stdout",
     "output_type": "stream",
     "text": [
      "160 watt\n"
     ]
    }
   ],
   "source": [
    "incandescent = '160 watt' \n",
    "\n",
    "print(incandescent)"
   ]
  },
  {
   "cell_type": "code",
   "execution_count": 6,
   "id": "e9733e82-1242-4d10-9055-ce993d02a5a6",
   "metadata": {},
   "outputs": [
    {
     "name": "stdout",
     "output_type": "stream",
     "text": [
      "160 watt 120 watt\n"
     ]
    }
   ],
   "source": [
    "print(incandescent, wattage)"
   ]
  },
  {
   "cell_type": "markdown",
   "id": "36abc566-f1fc-495e-9986-4d0f6388546a",
   "metadata": {},
   "source": [
    "## Naming Variables\n",
    "\n",
    "Python is somewhat particular about naming variables. It has conventions that most Python \n",
    "programmers follow. Some of these are enforced, some are not One that is enforced by the \n",
    "interpreter is* a variable should not have the name of a keywor*d.\n",
    "Additional naming considerations:\n",
    "\n",
    "- be lowercase\n",
    "- use an underscore to separate\n",
    "- not start with numbers\n",
    "- not override a *built-in* function\n",
    "\n",
    "\n",
    "Examples of variable names (good and bad and worse):\n",
    "> good = 4  # good\n",
    "\n",
    "> Bad = 4 # bad - capital letter\n",
    "\n",
    "> bAd = 10 # bad - capital letter\n",
    "\n",
    "> a_longer_variable = 45     # good\n",
    "\n",
    "> 12_str = 787 # worse! Will not work\n",
    " ."
   ]
  },
  {
   "cell_type": "markdown",
   "id": "c4298005-cd2e-44c0-afca-cf94703e3959",
   "metadata": {},
   "source": [
    "## Exercises\n",
    "\n",
    "### Exercise 5\n",
    "> Create a variable, pi, that points to an approximation for the value of π. Create a \n",
    "variable, r, for the radius of a circle that has a value of 10. Calculate the area of th \r\n",
    "circle (π times the radius squared .\r\n",
    "You can do multiplication with * and you can square numbers using **. For examp e,\r\n",
    "3**2 i\n",
    "\n",
    "\n",
    "### Exercise 6\n",
    "> Create a variable, b, that points to the base of a rectangle with a value of 10. Create \n",
    "a variable, h, that points to the height of a rectangle with a value of 2. Calculate th \r\n",
    "perimeter. Change the base to 6 and calculate the perimeter again.s 9."
   ]
  },
  {
   "cell_type": "code",
   "execution_count": 8,
   "id": "6961f5c4-b638-4113-a9d5-4e60afee50e0",
   "metadata": {},
   "outputs": [
    {
     "name": "stdout",
     "output_type": "stream",
     "text": [
      "The area of this circle of radius  10  is  314.2\n"
     ]
    }
   ],
   "source": [
    "# Exercise 5\n",
    "pi = 3.142\n",
    "radius = 10\n",
    "\n",
    "area_of_circle = pi * (radius * radius)\n",
    "\n",
    "print('The area of this circle of radius ', radius, ' is ', area_of_circle)"
   ]
  },
  {
   "cell_type": "code",
   "execution_count": 9,
   "id": "8305ada9-5430-443a-9119-e0d9424f0f88",
   "metadata": {},
   "outputs": [
    {
     "name": "stdout",
     "output_type": "stream",
     "text": [
      "The area of this circle of radius  10 is 314.2\n"
     ]
    }
   ],
   "source": [
    "pi = 3.142\n",
    "radius = 10\n",
    "\n",
    "area_of_circle = pi * (radius * radius)\n",
    "print('The area of this circle of radius ', radius, 'is' ,area_of_circle)"
   ]
  },
  {
   "cell_type": "code",
   "execution_count": 10,
   "id": "9b3ab01c-6e27-47c4-9be7-169c7cf47b74",
   "metadata": {},
   "outputs": [
    {
     "name": "stdout",
     "output_type": "stream",
     "text": [
      "16\n"
     ]
    }
   ],
   "source": [
    "# Exercise 6\n",
    "\n",
    "base = 6\n",
    "\n",
    "height = 2\n",
    "\n",
    "perimeter = (2 * base) + (2 * height)\n",
    "\n",
    "print(perimeter)"
   ]
  },
  {
   "cell_type": "markdown",
   "id": "aa0cb765-394d-4a02-aea1-fde38780594c",
   "metadata": {},
   "source": [
    "# Numbers\n",
    "\n",
    "\n",
    "This lesson will discuss manipulating numbers with Python. Integers (whole numbers like -1, 5, or 2000) and Floating Points (the computer’s approximation of real numbers like .333, 0.5 or -1000.234) are available in Python and provide easy numerical manipulation. \n",
    "\n",
    "Out of the box, Python provides support for addition, subtraction, multiplication, division, power, modulo, and more!\n",
    "\n",
    "\n",
    "## Mathematical Operators in Python\n",
    "\n",
    "|OPERATOR\t|DESCRIPTION\t        |SYNTAX  |FUNCTION |     \n",
    "|-----------|-----------------------|--------|---------|\n",
    "|+\t        |Addition\t        |a + b   |add(a, b) |      \n",
    "|–\t        |Subtraction\t       | a - b   |sub(a, b)  |      \n",
    "|*\t        |Multiplication\t    |a * b   |mul(a, b)  |      \n",
    "|/\t        |True Division\t    |a / b   |truediv(a, b)|    \n",
    "|//\t        |Floor Division\t    |a // b  |floordiv(a, b)|   \n",
    "|%\t        |Modulo\t            |a % b   |mod(a, b)  |     \n",
    "|**\t        |Power\t            |a ** b  |pow(a, b)   |    "
   ]
  },
  {
   "cell_type": "markdown",
   "id": "6d8b196f-1308-421d-9079-58055179fb21",
   "metadata": {},
   "source": [
    "### Addition\n",
    "\n",
    "You can add as many numerical data types in Python."
   ]
  },
  {
   "cell_type": "code",
   "execution_count": 11,
   "id": "5f9e6822-3b1c-4b0d-a096-61aad21aa32e",
   "metadata": {},
   "outputs": [
    {
     "data": {
      "text/plain": [
       "0"
      ]
     },
     "execution_count": 11,
     "metadata": {},
     "output_type": "execute_result"
    }
   ],
   "source": [
    "2 + (-2)\n"
   ]
  },
  {
   "cell_type": "code",
   "execution_count": 12,
   "id": "93715e60-eee4-40a1-9591-9b8915943bef",
   "metadata": {},
   "outputs": [
    {
     "data": {
      "text/plain": [
       "14.77"
      ]
     },
     "execution_count": 12,
     "metadata": {},
     "output_type": "execute_result"
    }
   ],
   "source": [
    "6.33 + 8.44"
   ]
  },
  {
   "cell_type": "markdown",
   "id": "69765865-1ca2-49e6-8a27-da46204db3e5",
   "metadata": {},
   "source": [
    "### Subtraction\n",
    "\n",
    "Subtraction is similar to addition. Subtraction of two integers or two floats returns an integer \n",
    "or a float respectively."
   ]
  },
  {
   "cell_type": "code",
   "execution_count": 13,
   "id": "6e20046b-9603-4dd1-99cf-f3a0262445c1",
   "metadata": {},
   "outputs": [
    {
     "data": {
      "text/plain": [
       "-3"
      ]
     },
     "execution_count": 13,
     "metadata": {},
     "output_type": "execute_result"
    }
   ],
   "source": [
    "2 - 5\n"
   ]
  },
  {
   "cell_type": "code",
   "execution_count": 14,
   "id": "b9162901-4427-43e5-bfea-7d9cffea87ca",
   "metadata": {},
   "outputs": [
    {
     "data": {
      "text/plain": [
       "0.04999999999999999"
      ]
     },
     "execution_count": 14,
     "metadata": {},
     "output_type": "execute_result"
    }
   ],
   "source": [
    "0.25 - 0.2\n"
   ]
  },
  {
   "cell_type": "markdown",
   "id": "90dd2050-2603-42d5-b47f-6a15f06d0573",
   "metadata": {},
   "source": [
    "### Multiplication\n",
    "\n",
    "In many programming languages, the * (asterisk) is used for multiplication. You can \n",
    "probably guess what is going to happen when you multiply two integers:"
   ]
  },
  {
   "cell_type": "code",
   "execution_count": null,
   "id": "ea018a4a-d2dd-4577-801a-e21a9463d097",
   "metadata": {},
   "outputs": [],
   "source": [
    "0.25 * 12.0"
   ]
  },
  {
   "cell_type": "code",
   "execution_count": null,
   "id": "76f26f69-7356-4e1d-b940-2930dd5ff032",
   "metadata": {},
   "outputs": [],
   "source": [
    "4 * (-0.3)"
   ]
  },
  {
   "cell_type": "markdown",
   "id": "d342a381-6fe3-4471-84dd-f4f8cc015501",
   "metadata": {},
   "source": [
    "### Division\n",
    "\n",
    "In Python (like many languages), the / (slash) symbol is used for division:"
   ]
  },
  {
   "cell_type": "code",
   "execution_count": 15,
   "id": "9ee8c0c8-12b4-44a9-affa-ea7599c0adbf",
   "metadata": {},
   "outputs": [
    {
     "data": {
      "text/plain": [
       "3.0"
      ]
     },
     "execution_count": 15,
     "metadata": {},
     "output_type": "execute_result"
    }
   ],
   "source": [
    "12 / 4"
   ]
  },
  {
   "cell_type": "code",
   "execution_count": 16,
   "id": "35affb3d-6e5a-4e62-a916-851761ef5a2b",
   "metadata": {},
   "outputs": [
    {
     "data": {
      "text/plain": [
       "0.75"
      ]
     },
     "execution_count": 16,
     "metadata": {},
     "output_type": "execute_result"
    }
   ],
   "source": [
    "3 / 4"
   ]
  },
  {
   "cell_type": "code",
   "execution_count": 17,
   "id": "c2b2eeef-5e0a-45f1-a108-42e54cfc1d72",
   "metadata": {},
   "outputs": [
    {
     "data": {
      "text/plain": [
       "1"
      ]
     },
     "execution_count": 17,
     "metadata": {},
     "output_type": "execute_result"
    }
   ],
   "source": [
    "4 // 3"
   ]
  },
  {
   "cell_type": "code",
   "execution_count": 18,
   "id": "ea507c54-d790-4d00-952b-ed7cc05687cf",
   "metadata": {},
   "outputs": [
    {
     "data": {
      "text/plain": [
       "1"
      ]
     },
     "execution_count": 18,
     "metadata": {},
     "output_type": "execute_result"
    }
   ],
   "source": [
    "5 // 3"
   ]
  },
  {
   "cell_type": "markdown",
   "id": "0dfad731-8a7a-445d-ab45-f27f1bf4b3c7",
   "metadata": {},
   "source": [
    "### Modulo\n",
    "\n",
    "The modulo operator (%) calculates the modulus. This is the same as the remainder of a \n",
    "division operation when the operators are ppositive. This is useful for determining whethe \r\n",
    "a number is odd or even (or whether you have iterated over 1000 items):"
   ]
  },
  {
   "cell_type": "code",
   "execution_count": 19,
   "id": "d873c896-e15c-4281-aec0-e97aeef73983",
   "metadata": {},
   "outputs": [
    {
     "data": {
      "text/plain": [
       "2"
      ]
     },
     "execution_count": 19,
     "metadata": {},
     "output_type": "execute_result"
    }
   ],
   "source": [
    "5 % 3"
   ]
  },
  {
   "cell_type": "code",
   "execution_count": null,
   "id": "22293b35-8dc4-4984-b2b6-d958a9dabbd5",
   "metadata": {},
   "outputs": [],
   "source": [
    "3 % 2"
   ]
  },
  {
   "cell_type": "code",
   "execution_count": null,
   "id": "104a0801-6bd0-46a8-b7ac-10484b12ba0e",
   "metadata": {},
   "outputs": [],
   "source": [
    "4 % 2 "
   ]
  },
  {
   "cell_type": "markdown",
   "id": "bc1f674d-ae0a-4fac-bf50-130ef02dfd9e",
   "metadata": {},
   "source": [
    "### Power\n",
    "\n",
    "Python also gives you the power operator by using ** (double asterisks). If you wanted to \n",
    "square ), the following code will do it:"
   ]
  },
  {
   "cell_type": "code",
   "execution_count": 20,
   "id": "f621f950-3feb-483e-9d7e-c7528c4a1974",
   "metadata": {},
   "outputs": [
    {
     "data": {
      "text/plain": [
       "16"
      ]
     },
     "execution_count": 20,
     "metadata": {},
     "output_type": "execute_result"
    }
   ],
   "source": [
    "4 ** 2"
   ]
  },
  {
   "cell_type": "code",
   "execution_count": 21,
   "id": "745c4f1b-73f8-49d2-97ab-a48b2bb539df",
   "metadata": {},
   "outputs": [
    {
     "data": {
      "text/plain": [
       "10000000000000000000000000000000000000000000000000000000000000000000000000000000000000000000000000000"
      ]
     },
     "execution_count": 21,
     "metadata": {},
     "output_type": "execute_result"
    }
   ],
   "source": [
    "10 ** 100 "
   ]
  },
  {
   "cell_type": "markdown",
   "id": "0774b043-64cb-48ec-910f-3a495d5dd2fe",
   "metadata": {},
   "source": [
    "## Order of Operations\n",
    "\n",
    "\n",
    "When you are performing math, you do not apply all the operations from left to right. You \n",
    "do the multiplication and division before the addition and subtraction. Computers work th \r\n",
    "same way. If you want to perform addition (or subtraction) first, use parentheses to indicate\r\n",
    "the order of operations:"
   ]
  },
  {
   "cell_type": "code",
   "execution_count": 22,
   "id": "9a5a00e6-7ccb-4ff5-8cb4-f6abdf78e2b7",
   "metadata": {},
   "outputs": [
    {
     "data": {
      "text/plain": [
       "10"
      ]
     },
     "execution_count": 22,
     "metadata": {},
     "output_type": "execute_result"
    }
   ],
   "source": [
    "4 + (2 * 3)"
   ]
  },
  {
   "cell_type": "code",
   "execution_count": null,
   "id": "e302f8c4-807b-4fd3-bf71-8b7f0423d739",
   "metadata": {},
   "outputs": [],
   "source": [
    "(4 + 2) * 3"
   ]
  },
  {
   "cell_type": "markdown",
   "id": "c9ceb972-07e2-4554-ab99-9ecf8b097f1a",
   "metadata": {},
   "source": [
    "## Exercises\n",
    "\n",
    "\n",
    "- Exercise 7: You slept for 6.2, 7, 8, 5, 6.5, 7.1, and 8.5 hours this week. Calculate the average number \n",
    "of hours slept\n",
    "\n",
    "- Exercise 8: Is 297 divisible by 3?\n",
    "\n",
    "- Exercise 9: What is 2 raised to the tenth power?\n",
    "."
   ]
  },
  {
   "cell_type": "code",
   "execution_count": 23,
   "id": "cf2829b5-239d-49c4-977f-5366cb77bdb1",
   "metadata": {},
   "outputs": [
    {
     "name": "stdout",
     "output_type": "stream",
     "text": [
      "6.9\n"
     ]
    }
   ],
   "source": [
    "#  Exercise 7\n",
    "total_hours_slept = 6.2 + 7 + 8 + 5 + 6.5 + 7.1 + 8.5\n",
    "\n",
    "sleep_count = 7\n",
    "\n",
    "average_hrs_slept = total_hours_slept / sleep_count\n",
    "\n",
    "print(average_hrs_slept)\n"
   ]
  },
  {
   "cell_type": "code",
   "execution_count": 24,
   "id": "02a1f99e-9fc1-4584-8fad-f8b33c022769",
   "metadata": {},
   "outputs": [
    {
     "data": {
      "text/plain": [
       "0"
      ]
     },
     "execution_count": 24,
     "metadata": {},
     "output_type": "execute_result"
    }
   ],
   "source": [
    "#  Exercise 8\n",
    "\n",
    "297 % 3"
   ]
  },
  {
   "cell_type": "code",
   "execution_count": 25,
   "id": "8458f47c-6109-4dcc-b280-e377084e8b8a",
   "metadata": {},
   "outputs": [
    {
     "data": {
      "text/plain": [
       "512"
      ]
     },
     "execution_count": 25,
     "metadata": {},
     "output_type": "execute_result"
    }
   ],
   "source": [
    "#  Exercise 9\n",
    "\n",
    "2 ** 9"
   ]
  },
  {
   "cell_type": "markdown",
   "id": "d4a85a7e-b32d-4f95-8d4e-9ad34baf52dc",
   "metadata": {},
   "source": [
    "# Strings and String Methods\n",
    "\n",
    "\n",
    "Strings are *immutable* objects that hold character data. A string could hold a single character, \n",
    "a word, a line of words, a paragraph, multiple paragraphs, or even zero characters\n",
    "\n",
    "Python denotes strings by wrapping them with \n",
    "- ' (single quotes),\n",
    "- \" (double quotes),\n",
    "- \"\"\" \n",
    "(triple doubles) or ''' (triple singles). Here are some examples\n",
    "\n",
    "> NB: Strings preceded by the # sign are comments. The string is escaped at runtime:."
   ]
  },
  {
   "cell_type": "code",
   "execution_count": 26,
   "id": "194bcbc1-00fe-4be6-8566-ceca6599e4fb",
   "metadata": {},
   "outputs": [
    {
     "name": "stdout",
     "output_type": "stream",
     "text": [
      "a\n"
     ]
    }
   ],
   "source": [
    "character = 'a'\n",
    "\n",
    "print(character)"
   ]
  },
  {
   "cell_type": "code",
   "execution_count": null,
   "id": "e54592c4-0e6a-465f-90c8-4934d18e42dd",
   "metadata": {},
   "outputs": [],
   "source": [
    "char = \"a\"\n",
    "\n",
    "print(char)"
   ]
  },
  {
   "cell_type": "code",
   "execution_count": null,
   "id": "997af35d-f28f-4150-95c6-be120d67f3ea",
   "metadata": {},
   "outputs": [],
   "source": [
    "name = 'Azubi'\n",
    "\n",
    "print(name)"
   ]
  },
  {
   "cell_type": "code",
   "execution_count": null,
   "id": "7f17288e-8f21-4e58-9718-2ea1bbb6936c",
   "metadata": {},
   "outputs": [],
   "source": [
    "with_quote = \"I didn't take the Fraded Quiz\" \n",
    "\n",
    "print(with_quote)"
   ]
  },
  {
   "cell_type": "code",
   "execution_count": null,
   "id": "11049781-8d3e-443c-8008-1387f8f6b84a",
   "metadata": {},
   "outputs": [],
   "source": [
    "with_quote = \"I didn't take the Fraded Quiz\"\n",
    "\n",
    "print(with_quote)"
   ]
  },
  {
   "cell_type": "code",
   "execution_count": 27,
   "id": "8737c1b1-2187-44aa-9753-885ed6b707ab",
   "metadata": {},
   "outputs": [
    {
     "name": "stdout",
     "output_type": "stream",
     "text": [
      "\n",
      "            This string has\n",
      "            multiple lines\n",
      "         \n"
     ]
    }
   ],
   "source": [
    "longer = '''\n",
    "            This string has\n",
    "            multiple lines\n",
    "         '''\n",
    "\n",
    "print(longer)"
   ]
  },
  {
   "cell_type": "code",
   "execution_count": null,
   "id": "b45f33cf-ba10-4d88-9976-fbcc8f8331aa",
   "metadata": {},
   "outputs": [],
   "source": [
    "longer_again = \"\"\"\n",
    "                    This string has\n",
    "                    also\n",
    "                    multiple lines\n",
    "               \"\"\"\n",
    "\n",
    "print(longer_again)"
   ]
  },
  {
   "cell_type": "code",
   "execution_count": 28,
   "id": "01c35aaa-dcbf-49bf-b028-758251206843",
   "metadata": {},
   "outputs": [
    {
     "name": "stdout",
     "output_type": "stream",
     "text": [
      "I ain't gonna lie\n"
     ]
    }
   ],
   "source": [
    "escaped = 'I ain\\'t gonna lie'\n",
    "\n",
    "print(escaped)"
   ]
  },
  {
   "cell_type": "code",
   "execution_count": null,
   "id": "1b7782e9-feb7-4312-b072-561340a9d1c7",
   "metadata": {},
   "outputs": [],
   "source": [
    "zero_chars = ''\n",
    "\n",
    "print(zero_chars)"
   ]
  },
  {
   "cell_type": "code",
   "execution_count": 30,
   "id": "dee7283b-f67c-43a6-9bdb-16d71a70e7aa",
   "metadata": {},
   "outputs": [
    {
     "name": "stdout",
     "output_type": "stream",
     "text": [
      "I love 🐕 😎 😒\n"
     ]
    }
   ],
   "source": [
    "unicode = \"I love \\N{DOG} 😎 😒\"\n",
    "\n",
    "print(unicode)"
   ]
  },
  {
   "cell_type": "markdown",
   "id": "3b6210d1-4758-4cf5-ac7f-871e8a5fd2a1",
   "metadata": {},
   "source": [
    "> Notice that the strings always start and end with the same style of quote. As illustrated \n",
    "in the with_quote example you can put single quotes inside of a double-quoted string\r\n",
    "and vice versa. Furthermore, if you need to include the same type of quote within yo r\r\n",
    "string, you can escape the quote by preceding it with a \\ (backslash). When you print out an\r\n",
    "escaped character the backslash is ignored."
   ]
  },
  {
   "cell_type": "markdown",
   "id": "0bedf031-3611-407d-8f51-09447c1f9d07",
   "metadata": {},
   "source": [
    "## F-Strings\n",
    "\n",
    "Python 3.6 introduced a new type of string, called f-string. If you precede a string with an \n",
    "f, it will allow you to include code inside of the placeholders. Here is a basic example:."
   ]
  },
  {
   "cell_type": "code",
   "execution_count": 31,
   "id": "73e9ca74-41c4-4545-8fd5-731b62c616ba",
   "metadata": {},
   "outputs": [
    {
     "data": {
      "text/plain": [
       "'My name is Programmer'"
      ]
     },
     "execution_count": 31,
     "metadata": {},
     "output_type": "execute_result"
    }
   ],
   "source": [
    "profession = 'Programmer'\n",
    "\n",
    "# print('My name is', profession)\n",
    "\n",
    "f'My name is {profession}'"
   ]
  },
  {
   "cell_type": "markdown",
   "id": "456d447c-fde1-4fe9-932f-b2c8c6797fd8",
   "metadata": {},
   "source": [
    "Python will look in the placeholder and evaluate the code there. Note that the \n",
    "placeholder can contain function calls, method calls, or any other arbitrary code:"
   ]
  },
  {
   "cell_type": "code",
   "execution_count": 32,
   "id": "0d652736-3d55-4c4c-b115-52a35f6194b8",
   "metadata": {},
   "outputs": [
    {
     "data": {
      "text/plain": [
       "['__add__',\n",
       " '__class__',\n",
       " '__contains__',\n",
       " '__delattr__',\n",
       " '__dir__',\n",
       " '__doc__',\n",
       " '__eq__',\n",
       " '__format__',\n",
       " '__ge__',\n",
       " '__getattribute__',\n",
       " '__getitem__',\n",
       " '__getnewargs__',\n",
       " '__gt__',\n",
       " '__hash__',\n",
       " '__init__',\n",
       " '__init_subclass__',\n",
       " '__iter__',\n",
       " '__le__',\n",
       " '__len__',\n",
       " '__lt__',\n",
       " '__mod__',\n",
       " '__mul__',\n",
       " '__ne__',\n",
       " '__new__',\n",
       " '__reduce__',\n",
       " '__reduce_ex__',\n",
       " '__repr__',\n",
       " '__rmod__',\n",
       " '__rmul__',\n",
       " '__setattr__',\n",
       " '__sizeof__',\n",
       " '__str__',\n",
       " '__subclasshook__',\n",
       " 'capitalize',\n",
       " 'casefold',\n",
       " 'center',\n",
       " 'count',\n",
       " 'encode',\n",
       " 'endswith',\n",
       " 'expandtabs',\n",
       " 'find',\n",
       " 'format',\n",
       " 'format_map',\n",
       " 'index',\n",
       " 'isalnum',\n",
       " 'isalpha',\n",
       " 'isascii',\n",
       " 'isdecimal',\n",
       " 'isdigit',\n",
       " 'isidentifier',\n",
       " 'islower',\n",
       " 'isnumeric',\n",
       " 'isprintable',\n",
       " 'isspace',\n",
       " 'istitle',\n",
       " 'isupper',\n",
       " 'join',\n",
       " 'ljust',\n",
       " 'lower',\n",
       " 'lstrip',\n",
       " 'maketrans',\n",
       " 'partition',\n",
       " 'removeprefix',\n",
       " 'removesuffix',\n",
       " 'replace',\n",
       " 'rfind',\n",
       " 'rindex',\n",
       " 'rjust',\n",
       " 'rpartition',\n",
       " 'rsplit',\n",
       " 'rstrip',\n",
       " 'split',\n",
       " 'splitlines',\n",
       " 'startswith',\n",
       " 'strip',\n",
       " 'swapcase',\n",
       " 'title',\n",
       " 'translate',\n",
       " 'upper',\n",
       " 'zfill']"
      ]
     },
     "execution_count": 32,
     "metadata": {},
     "output_type": "execute_result"
    }
   ],
   "source": [
    "dir(profession)"
   ]
  },
  {
   "cell_type": "code",
   "execution_count": 33,
   "id": "91f914c5-e586-439c-85ca-985d62dfc14f",
   "metadata": {},
   "outputs": [
    {
     "data": {
      "text/plain": [
       "'My name is PROGRAMMER'"
      ]
     },
     "execution_count": 33,
     "metadata": {},
     "output_type": "execute_result"
    }
   ],
   "source": [
    "f'My name is {profession.upper()}'"
   ]
  },
  {
   "cell_type": "markdown",
   "id": "a06ef09e-ab12-4b67-887f-880a0e3ecaf0",
   "metadata": {},
   "source": [
    "## Exercises\n",
    "\n",
    "- Exercise 10: Create a variable, name, pointing to your name. Create another variable, age, holding an integer value for your age. Print out a string formatted with both values. If your name was Fred and age was 23 it would print: `Fred is 23`\n",
    "- Exercise 11: Create a variable, paragraph, that has the following content: ”Python is a great language!”, said Fred. ”I don’t ever remember having this much fun before.”"
   ]
  },
  {
   "cell_type": "code",
   "execution_count": null,
   "id": "f9e9510d-2c7d-436c-a732-ee258f3ca03c",
   "metadata": {},
   "outputs": [],
   "source": [
    "# Exercise 10 \n",
    "\n",
    "name = input('Please enter your name: ')\n",
    "\n",
    "age = input('Please enter your age: ')\n",
    "\n",
    "f'My name is {name.capitalize()} and my age is {age}'"
   ]
  },
  {
   "cell_type": "code",
   "execution_count": null,
   "id": "6fb447d3-4747-4483-a7b3-198b4aa2b83a",
   "metadata": {},
   "outputs": [],
   "source": [
    "# Exercise 11 "
   ]
  },
  {
   "cell_type": "markdown",
   "id": "b21a56d2-374b-42ca-9654-eee5f0fc1a44",
   "metadata": {},
   "source": [
    "> Note: You have only touched the surface of strings, but you need to take a break to discuss two important functions that come with Python. The first function is *dir*, which illustrates how powerful and useful the REPL is. The *dir* function returns the attributes (and methods) of an object. "
   ]
  },
  {
   "cell_type": "code",
   "execution_count": null,
   "id": "c23fa3dd-fbb6-4073-9229-daab9da20d0b",
   "metadata": {},
   "outputs": [],
   "source": [
    "dir(profession)"
   ]
  },
  {
   "cell_type": "markdown",
   "id": "e88ba8d4-a15e-48b8-a354-1779b60f231a",
   "metadata": {},
   "source": [
    "> help is another built-in function that is useful in combination with the REPL."
   ]
  },
  {
   "cell_type": "code",
   "execution_count": null,
   "id": "8c817151-7417-4016-aff1-64f11d795b38",
   "metadata": {},
   "outputs": [],
   "source": [
    "help(profession.count)"
   ]
  },
  {
   "cell_type": "markdown",
   "id": "c092575f-79c2-476c-90fb-349ba2fe31cc",
   "metadata": {},
   "source": [
    "> Because strings are immutable, these methods do not mutate the string, but rather return a new string or a new result. Strings allow you create a new\n",
    "version that is capitalized, return a formatted string, or create a lowercase string, as well as many other actions. You do this by calling methods.\n",
    "\n",
    ">*Methods* are functions that are called on an instance of a type. What does this mean? The string type allows you to call a method (another term for call is invoke) by placing a . (period) and the method name directly after the variable name holding the data (or the data itself), followed by parentheses with arguments inside of them. "
   ]
  },
  {
   "cell_type": "code",
   "execution_count": null,
   "id": "dbdd359a-7794-4917-9d9f-75e4012968b6",
   "metadata": {},
   "outputs": [],
   "source": [
    "name = 'azubi'\n",
    " \n",
    "# Invoke the method\n",
    "correct = name.upper()\n",
    "\n",
    "print('azubi'.upper())"
   ]
  },
  {
   "cell_type": "code",
   "execution_count": null,
   "id": "4d3c1683-d651-4ffd-9db7-ee29befabd5b",
   "metadata": {},
   "outputs": [],
   "source": [
    "name = 'AZUBI'\n",
    " \n",
    "# Invoke the method\n",
    "correct = name.lower()\n",
    "\n",
    "print(correct)"
   ]
  },
  {
   "cell_type": "code",
   "execution_count": null,
   "id": "e23247d4-1c8f-496b-acb9-77e20b694728",
   "metadata": {},
   "outputs": [],
   "source": [
    "# All available methods\n",
    "dir(correct)"
   ]
  },
  {
   "cell_type": "code",
   "execution_count": null,
   "id": "96ec001c-d4e6-43d6-8fc2-b056b73fd4ff",
   "metadata": {},
   "outputs": [],
   "source": [
    "'Azubi ' * 4"
   ]
  },
  {
   "cell_type": "markdown",
   "id": "ec67a0f6-34d1-48b3-8f79-1e5b8e7156c1",
   "metadata": {},
   "source": [
    "## Exercises\n",
    "\n",
    "- Exercise 12: Create a string, school, with the name of your elementary school. Examine the methods that are available on that string. Use the `help` function to view their documentation.\n",
    "- Exercise 13: Create a string, country, with the value 'Kenya'. Create a new string, correct_country, that has the value in uppercase, by using a string method.\n",
    "- Exercise 13: Create a string, filename, that has the value 'hello.py'. Check and see if the filename ends with '.java'. Find the index location of 'py'. See if it starts with 'world'."
   ]
  },
  {
   "cell_type": "code",
   "execution_count": null,
   "id": "5a5a9818-6606-4d76-af0e-64a521703efa",
   "metadata": {},
   "outputs": [],
   "source": [
    "# Exercise 12"
   ]
  },
  {
   "cell_type": "code",
   "execution_count": null,
   "id": "f3afac1d-9723-4d7c-8923-de9994c6beae",
   "metadata": {},
   "outputs": [],
   "source": [
    "# Exercise 13"
   ]
  },
  {
   "cell_type": "code",
   "execution_count": null,
   "id": "426a617b-06e5-45b9-b950-b8df56c5a86b",
   "metadata": {},
   "outputs": [],
   "source": [
    "# Exercise 14"
   ]
  }
 ],
 "metadata": {
  "kernelspec": {
   "display_name": "Python 3 (ipykernel)",
   "language": "python",
   "name": "python3"
  },
  "language_info": {
   "codemirror_mode": {
    "name": "ipython",
    "version": 3
   },
   "file_extension": ".py",
   "mimetype": "text/x-python",
   "name": "python",
   "nbconvert_exporter": "python",
   "pygments_lexer": "ipython3",
   "version": "3.10.11"
  }
 },
 "nbformat": 4,
 "nbformat_minor": 5
}
