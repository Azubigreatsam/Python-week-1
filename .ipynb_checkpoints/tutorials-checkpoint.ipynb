{
 "cells": [
  {
   "cell_type": "code",
   "execution_count": null,
   "id": "be2fff25-8d2c-4ff7-b64b-dbeb874ae16c",
   "metadata": {},
   "outputs": [],
   "source": [
    "\"\"\"\n",
    "               .\n",
    "                        `:.\n",
    "                          `:.\n",
    "                  .:'     ,::\n",
    "                 .:'      ;:'\n",
    "                 ::      ;:'\n",
    "                  :    .:'\n",
    "                   `.  :.\n",
    "          _________________________\n",
    "         : _ _ _ _ _ _ _ _ _ _ _ _ :\n",
    "     ,---:\".\".\".\".\".\".\".\".\".\".\".\".\":\n",
    "    : ,'\"`::.:.:.:.:.:.:.:.:.:.:.::'\n",
    "    `.`.  `:-===-===-===-===-===-:'\n",
    "      `.`-._:                   :\n",
    "        `-.__`.               ,' met.\n",
    "    ,--------`\"`-------------'--------.\n",
    "     `\"--.__                   __.--\"'\n",
    "            `\"\"-------------\"\"'\n",
    "\n",
    "\n",
    "\n",
    "\n",
    "\n",
    "\n",
    "\n",
    "\"\"\"\n",
    "game_basket = (rock,paper,scissors)"
   ]
  },
  {
   "cell_type": "code",
   "execution_count": null,
   "id": "055fce9d-d063-46ff-b865-465e4227cb8e",
   "metadata": {},
   "outputs": [],
   "source": [
    "user_choice = int(input(\"what do you choose? Type 0 for rock,1 for paper or 2 for scissors:\"))\n",
    "what do you choose? Type 0 for rock, 1 for paper or 2 for scissors: paper"
   ]
  },
  {
   "cell_type": "code",
   "execution_count": null,
   "id": "c194db74-c0c7-4309-95ea-29fc8f38cb02",
   "metadata": {},
   "outputs": [],
   "source": [
    "print(game_basket"
   ]
  }
 ],
 "metadata": {
  "kernelspec": {
   "display_name": "Python 3 (ipykernel)",
   "language": "python",
   "name": "python3"
  },
  "language_info": {
   "codemirror_mode": {
    "name": "ipython",
    "version": 3
   },
   "file_extension": ".py",
   "mimetype": "text/x-python",
   "name": "python",
   "nbconvert_exporter": "python",
   "pygments_lexer": "ipython3",
   "version": "3.10.11"
  }
 },
 "nbformat": 4,
 "nbformat_minor": 5
}
