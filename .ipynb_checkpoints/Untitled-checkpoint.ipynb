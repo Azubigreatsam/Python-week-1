{
 "cells": [
  {
   "cell_type": "code",
   "execution_count": null,
   "id": "cf63ecff-1869-4379-b6ec-16d7fd5a0a20",
   "metadata": {},
   "outputs": [],
   "source": [
    "food_charge = 120"
   ]
  },
  {
   "cell_type": "code",
   "execution_count": null,
   "id": "48c27000-f595-42a2-94e3-873a74b6903d",
   "metadata": {},
   "outputs": [],
   "source": [
    "tips = 7"
   ]
  },
  {
   "cell_type": "code",
   "execution_count": null,
   "id": "c33f560e-a562-4722-ad75-d888c2acbb9e",
   "metadata": {},
   "outputs": [],
   "source": []
  },
  {
   "cell_type": "code",
   "execution_count": null,
   "id": "bb48ca57-fa53-4596-b519-268e7cd91f6d",
   "metadata": {},
   "outputs": [],
   "source": []
  }
 ],
 "metadata": {
  "kernelspec": {
   "display_name": "Python 3 (ipykernel)",
   "language": "python",
   "name": "python3"
  },
  "language_info": {
   "codemirror_mode": {
    "name": "ipython",
    "version": 3
   },
   "file_extension": ".py",
   "mimetype": "text/x-python",
   "name": "python",
   "nbconvert_exporter": "python",
   "pygments_lexer": "ipython3",
   "version": "3.10.11"
  }
 },
 "nbformat": 4,
 "nbformat_minor": 5
}
