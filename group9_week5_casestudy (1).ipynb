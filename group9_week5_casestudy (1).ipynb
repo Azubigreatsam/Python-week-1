{
 "cells": [
  {
   "cell_type": "markdown",
   "id": "84de74d6-e09b-4562-8bdf-7b12de5e6218",
   "metadata": {},
   "source": [
    "****GROUP 9 CASE STUDY PRESENTATION - WEEK 5 - 12/1/2024****"
   ]
  },
  {
   "cell_type": "markdown",
   "id": "e8efd4f2-4fd5-466d-8faa-a1dd84fd6037",
   "metadata": {},
   "source": [
    "****NYC PARKING VIOLATIONS DATA SET ANALYSIS****"
   ]
  },
  {
   "cell_type": "code",
   "execution_count": 5,
   "id": "a3817e66-da32-417e-9903-d04d13446735",
   "metadata": {},
   "outputs": [],
   "source": [
    "# Import Pandas as pd To get Pandas\n",
    "import pandas as pd"
   ]
  },
  {
   "cell_type": "code",
   "execution_count": 3,
   "id": "944b688f-4470-4a93-8dc4-037290ef702f",
   "metadata": {},
   "outputs": [
    {
     "data": {
      "text/html": [
       "<div>\n",
       "<style scoped>\n",
       "    .dataframe tbody tr th:only-of-type {\n",
       "        vertical-align: middle;\n",
       "    }\n",
       "\n",
       "    .dataframe tbody tr th {\n",
       "        vertical-align: top;\n",
       "    }\n",
       "\n",
       "    .dataframe thead th {\n",
       "        text-align: right;\n",
       "    }\n",
       "</style>\n",
       "<table border=\"1\" class=\"dataframe\">\n",
       "  <thead>\n",
       "    <tr style=\"text-align: right;\">\n",
       "      <th></th>\n",
       "      <th>Plate ID</th>\n",
       "      <th>Registration State</th>\n",
       "      <th>Vehicle Make</th>\n",
       "      <th>Violation Time</th>\n",
       "      <th>Street Name</th>\n",
       "      <th>Vehicle Color</th>\n",
       "    </tr>\n",
       "  </thead>\n",
       "  <tbody>\n",
       "    <tr>\n",
       "      <th>0</th>\n",
       "      <td>J58JKX</td>\n",
       "      <td>NJ</td>\n",
       "      <td>HONDA</td>\n",
       "      <td>0523P</td>\n",
       "      <td>43 ST</td>\n",
       "      <td>BK</td>\n",
       "    </tr>\n",
       "    <tr>\n",
       "      <th>1</th>\n",
       "      <td>KRE6058</td>\n",
       "      <td>PA</td>\n",
       "      <td>ME/BE</td>\n",
       "      <td>0428P</td>\n",
       "      <td>UNION ST</td>\n",
       "      <td>BLK</td>\n",
       "    </tr>\n",
       "    <tr>\n",
       "      <th>2</th>\n",
       "      <td>444326R</td>\n",
       "      <td>NJ</td>\n",
       "      <td>LEXUS</td>\n",
       "      <td>0625A</td>\n",
       "      <td>CLERMONT AVENUE</td>\n",
       "      <td>BLACK</td>\n",
       "    </tr>\n",
       "    <tr>\n",
       "      <th>3</th>\n",
       "      <td>F728330</td>\n",
       "      <td>OH</td>\n",
       "      <td>CHEVR</td>\n",
       "      <td>1106A</td>\n",
       "      <td>DIVISION AVE</td>\n",
       "      <td>NaN</td>\n",
       "    </tr>\n",
       "    <tr>\n",
       "      <th>4</th>\n",
       "      <td>FMY9090</td>\n",
       "      <td>NY</td>\n",
       "      <td>JEEP</td>\n",
       "      <td>1253A</td>\n",
       "      <td>GRAND ST</td>\n",
       "      <td>GREY</td>\n",
       "    </tr>\n",
       "    <tr>\n",
       "      <th>5</th>\n",
       "      <td>KDG0693</td>\n",
       "      <td>PA</td>\n",
       "      <td>HYUN</td>\n",
       "      <td>0525P</td>\n",
       "      <td>B 99 ST</td>\n",
       "      <td>GY</td>\n",
       "    </tr>\n",
       "    <tr>\n",
       "      <th>6</th>\n",
       "      <td>79928MG</td>\n",
       "      <td>NY</td>\n",
       "      <td>INTER</td>\n",
       "      <td>1120A</td>\n",
       "      <td>W/S/O WASHINGTON ST</td>\n",
       "      <td>WH</td>\n",
       "    </tr>\n",
       "    <tr>\n",
       "      <th>7</th>\n",
       "      <td>JJJ8186</td>\n",
       "      <td>NY</td>\n",
       "      <td>BMW</td>\n",
       "      <td>0320A</td>\n",
       "      <td>BAINBRIDGE AVE</td>\n",
       "      <td>BLK</td>\n",
       "    </tr>\n",
       "    <tr>\n",
       "      <th>8</th>\n",
       "      <td>DKD6024</td>\n",
       "      <td>NC</td>\n",
       "      <td>FORD</td>\n",
       "      <td>0843P</td>\n",
       "      <td>94 ST</td>\n",
       "      <td>GREY</td>\n",
       "    </tr>\n",
       "    <tr>\n",
       "      <th>9</th>\n",
       "      <td>6542FR</td>\n",
       "      <td>99</td>\n",
       "      <td>CMCKU</td>\n",
       "      <td>0739P</td>\n",
       "      <td>E 54 ST</td>\n",
       "      <td>RED</td>\n",
       "    </tr>\n",
       "    <tr>\n",
       "      <th>10</th>\n",
       "      <td>JKZ9192</td>\n",
       "      <td>NY</td>\n",
       "      <td>HONDA</td>\n",
       "      <td>1020A</td>\n",
       "      <td>ROCKAWAY AVE</td>\n",
       "      <td>GREY</td>\n",
       "    </tr>\n",
       "    <tr>\n",
       "      <th>11</th>\n",
       "      <td>JEJ2470</td>\n",
       "      <td>NY</td>\n",
       "      <td>HONDA</td>\n",
       "      <td>0936P</td>\n",
       "      <td>E 167 ST</td>\n",
       "      <td>GRAY</td>\n",
       "    </tr>\n",
       "    <tr>\n",
       "      <th>12</th>\n",
       "      <td>GLL6398</td>\n",
       "      <td>NY</td>\n",
       "      <td>HONDA</td>\n",
       "      <td>1030A</td>\n",
       "      <td>ROCKAWAY AVE</td>\n",
       "      <td>BLACK</td>\n",
       "    </tr>\n",
       "    <tr>\n",
       "      <th>13</th>\n",
       "      <td>HFB9724</td>\n",
       "      <td>NY</td>\n",
       "      <td>HONDA</td>\n",
       "      <td>1015A</td>\n",
       "      <td>ROCKAWAY AVE</td>\n",
       "      <td>BLACK</td>\n",
       "    </tr>\n",
       "    <tr>\n",
       "      <th>14</th>\n",
       "      <td>A081358</td>\n",
       "      <td>ME</td>\n",
       "      <td>HONDA</td>\n",
       "      <td>0952A</td>\n",
       "      <td>MARTENSE ST</td>\n",
       "      <td>TAN</td>\n",
       "    </tr>\n",
       "    <tr>\n",
       "      <th>15</th>\n",
       "      <td>JKZ9192</td>\n",
       "      <td>NY</td>\n",
       "      <td>HONDA</td>\n",
       "      <td>0815A</td>\n",
       "      <td>ROCKAWAY AVE</td>\n",
       "      <td>SILVE</td>\n",
       "    </tr>\n",
       "    <tr>\n",
       "      <th>16</th>\n",
       "      <td>7533572</td>\n",
       "      <td>GV</td>\n",
       "      <td>NaN</td>\n",
       "      <td>0410P</td>\n",
       "      <td>E 58 ST</td>\n",
       "      <td>WH</td>\n",
       "    </tr>\n",
       "    <tr>\n",
       "      <th>17</th>\n",
       "      <td>96169MA</td>\n",
       "      <td>NY</td>\n",
       "      <td>FRUEH</td>\n",
       "      <td>0605P</td>\n",
       "      <td>W 125 ST</td>\n",
       "      <td>BN</td>\n",
       "    </tr>\n",
       "    <tr>\n",
       "      <th>18</th>\n",
       "      <td>KMMOVING</td>\n",
       "      <td>NC</td>\n",
       "      <td>FORD</td>\n",
       "      <td>0825P</td>\n",
       "      <td>E 40 STREET</td>\n",
       "      <td>WH</td>\n",
       "    </tr>\n",
       "    <tr>\n",
       "      <th>19</th>\n",
       "      <td>89493MK</td>\n",
       "      <td>NY</td>\n",
       "      <td>INTER</td>\n",
       "      <td>0854A</td>\n",
       "      <td>44TH ST</td>\n",
       "      <td>WH</td>\n",
       "    </tr>\n",
       "  </tbody>\n",
       "</table>\n",
       "</div>"
      ],
      "text/plain": [
       "    Plate ID Registration State Vehicle Make Violation Time  \\\n",
       "0     J58JKX                 NJ        HONDA          0523P   \n",
       "1    KRE6058                 PA        ME/BE          0428P   \n",
       "2    444326R                 NJ        LEXUS          0625A   \n",
       "3    F728330                 OH        CHEVR          1106A   \n",
       "4    FMY9090                 NY         JEEP          1253A   \n",
       "5    KDG0693                 PA         HYUN          0525P   \n",
       "6    79928MG                 NY        INTER          1120A   \n",
       "7    JJJ8186                 NY          BMW          0320A   \n",
       "8    DKD6024                 NC         FORD          0843P   \n",
       "9     6542FR                 99        CMCKU          0739P   \n",
       "10   JKZ9192                 NY        HONDA          1020A   \n",
       "11   JEJ2470                 NY        HONDA          0936P   \n",
       "12   GLL6398                 NY        HONDA          1030A   \n",
       "13   HFB9724                 NY        HONDA          1015A   \n",
       "14   A081358                 ME        HONDA          0952A   \n",
       "15   JKZ9192                 NY        HONDA          0815A   \n",
       "16   7533572                 GV          NaN          0410P   \n",
       "17   96169MA                 NY        FRUEH          0605P   \n",
       "18  KMMOVING                 NC         FORD          0825P   \n",
       "19   89493MK                 NY        INTER          0854A   \n",
       "\n",
       "            Street Name Vehicle Color  \n",
       "0                 43 ST            BK  \n",
       "1              UNION ST           BLK  \n",
       "2       CLERMONT AVENUE         BLACK  \n",
       "3          DIVISION AVE           NaN  \n",
       "4              GRAND ST          GREY  \n",
       "5               B 99 ST            GY  \n",
       "6   W/S/O WASHINGTON ST            WH  \n",
       "7        BAINBRIDGE AVE           BLK  \n",
       "8                 94 ST          GREY  \n",
       "9               E 54 ST           RED  \n",
       "10         ROCKAWAY AVE          GREY  \n",
       "11             E 167 ST          GRAY  \n",
       "12         ROCKAWAY AVE         BLACK  \n",
       "13         ROCKAWAY AVE         BLACK  \n",
       "14          MARTENSE ST           TAN  \n",
       "15         ROCKAWAY AVE         SILVE  \n",
       "16              E 58 ST            WH  \n",
       "17             W 125 ST            BN  \n",
       "18          E 40 STREET            WH  \n",
       "19              44TH ST            WH  "
      ]
     },
     "execution_count": 3,
     "metadata": {},
     "output_type": "execute_result"
    }
   ],
   "source": [
    "# To Import CSV file using the specified Columns using the 'usecols' method.\n",
    "df = pd.read_csv(\"D:/azubi/python/week5 casefile/nyc_2020.csv\", usecols=['Plate ID','Registration State','Vehicle Make',\n",
    "                                                                         'Vehicle Color','Violation Time', 'Street Name'] )\n",
    "df.head(20)"
   ]
  },
  {
   "cell_type": "code",
   "execution_count": 6,
   "id": "8d90fdb6-e9d6-4901-b43e-902090c374aa",
   "metadata": {},
   "outputs": [
    {
     "name": "stdout",
     "output_type": "stream",
     "text": [
      "<class 'pandas.core.frame.DataFrame'>\n",
      "RangeIndex: 12495734 entries, 0 to 12495733\n",
      "Data columns (total 6 columns):\n",
      " #   Column              Dtype \n",
      "---  ------              ----- \n",
      " 0   Plate ID            object\n",
      " 1   Registration State  object\n",
      " 2   Vehicle Make        object\n",
      " 3   Violation Time      object\n",
      " 4   Street Name         object\n",
      " 5   Vehicle Color       object\n",
      "dtypes: object(6)\n",
      "memory usage: 572.0+ MB\n"
     ]
    }
   ],
   "source": [
    "# Use the df.info() to see the data frame properties.\n",
    "df.info()"
   ]
  },
  {
   "cell_type": "markdown",
   "id": "118f9e3d-0fe1-4bc9-8096-9c31b021ad5f",
   "metadata": {},
   "source": [
    "'''***QUESTION 1: HOW MANY ROWS ARE IN THE DATA FRAME?***''' "
   ]
  },
  {
   "cell_type": "code",
   "execution_count": 8,
   "id": "f70ebc81-7106-43ea-8c20-4a00d9db7a1e",
   "metadata": {},
   "outputs": [
    {
     "name": "stdout",
     "output_type": "stream",
     "text": [
      "The number of rows in the data frame is 12,495,734\n"
     ]
    }
   ],
   "source": [
    "# The Number of rows in the Data Frame\n",
    "number_of_row_in_df = len(df)\n",
    "print(f\"The number of rows in the data frame is {(number_of_row_in_df):,.0f}\")"
   ]
  },
  {
   "cell_type": "code",
   "execution_count": 9,
   "id": "019834e7-e7bb-4f4c-8761-aa92b362b0d7",
   "metadata": {},
   "outputs": [
    {
     "data": {
      "text/plain": [
       "Plate ID                 202\n",
       "Registration State         0\n",
       "Vehicle Make           62420\n",
       "Violation Time           278\n",
       "Street Name             1417\n",
       "Vehicle Color         391982\n",
       "dtype: int64"
      ]
     },
     "execution_count": 9,
     "metadata": {},
     "output_type": "execute_result"
    }
   ],
   "source": [
    "# To see The N/A values in the columns\n",
    "df.isna().sum()"
   ]
  },
  {
   "cell_type": "markdown",
   "id": "82a382be-d499-45f1-9701-80bf76f2e230",
   "metadata": {},
   "source": [
    "***HOW MANY ROWS HAVE N/A VALUES IN THE DATA FRAME?***"
   ]
  },
  {
   "cell_type": "code",
   "execution_count": 37,
   "id": "41316ac9-beef-43ad-960d-a8f81dea4d8d",
   "metadata": {},
   "outputs": [
    {
     "name": "stdout",
     "output_type": "stream",
     "text": [
      "The Total rows with null or N/A is 447,359\n"
     ]
    }
   ],
   "source": [
    "# Count the number of NA or null values in each row\n",
    "#.sum(axis=1) identifies the null values (True or False) in each element of the DataFrame, \n",
    "#the sum(axis=1) part sums these values along the columns (axis=1), effectively counting the number of True values for each row.\n",
    "null_values_per_row = df.isna().sum(axis=1)\n",
    "# Total number of rows with at least one NA or null value\n",
    "total_rows_with_null = (null_values_per_row > 0).sum()\n",
    "print(f\"The Total rows with null or N/A is {(total_rows_with_null):,.0f}\")"
   ]
  },
  {
   "cell_type": "markdown",
   "id": "cd04f36b-ebe1-49e6-8c46-3d2bd15c8fb5",
   "metadata": {},
   "source": [
    "***QUESTION 2 And 3: DROP THE ROWS WITH NULL VALUES AND SHOW HOW MANY ROWS ARE IN THE DATA FRAME?*** "
   ]
  },
  {
   "cell_type": "code",
   "execution_count": 10,
   "id": "fe1882a0-ae05-4fb1-9b78-40d7fcea80ad",
   "metadata": {},
   "outputs": [
    {
     "name": "stdout",
     "output_type": "stream",
     "text": [
      "The cleaned data frame has 12,048,375 rows\n"
     ]
    }
   ],
   "source": [
    "# Drop rows with any null or N/A values\n",
    "df_cleaned = df.dropna()\n",
    "#  Print number of rows in the current cleaned data frame\n",
    "print(f\"The cleaned data frame has {len(df_cleaned):,.0f} rows\")"
   ]
  },
  {
   "cell_type": "code",
   "execution_count": 11,
   "id": "12f7fabe-257d-44a6-bb21-0644fe660fc3",
   "metadata": {},
   "outputs": [
    {
     "data": {
      "text/plain": [
       "447359"
      ]
     },
     "execution_count": 11,
     "metadata": {},
     "output_type": "execute_result"
    }
   ],
   "source": [
    "#Test the data result\n",
    "test = number_of_row_in_df - len(df_cleaned)\n",
    "test"
   ]
  },
  {
   "cell_type": "code",
   "execution_count": 12,
   "id": "f7e3d6c9-db04-496b-9ed9-f54daa0d86d7",
   "metadata": {},
   "outputs": [
    {
     "data": {
      "text/plain": [
       "Plate ID              0\n",
       "Registration State    0\n",
       "Vehicle Make          0\n",
       "Violation Time        0\n",
       "Street Name           0\n",
       "Vehicle Color         0\n",
       "dtype: int64"
      ]
     },
     "execution_count": 12,
     "metadata": {},
     "output_type": "execute_result"
    }
   ],
   "source": [
    "#To Check The  cleaned Data frame to see if null values exist\n",
    "df_cleaned.isna().sum()"
   ]
  },
  {
   "cell_type": "markdown",
   "id": "7dba7884-ac23-4192-93d6-d0f135e49cb0",
   "metadata": {},
   "source": [
    "***QUESTION 4: IF EACH PARKING TICKET BRINGS $100 and MISSING DATA MEANS THE TICKET COULB BE SUCCESSFULLY CONTESTED\n",
    ", HOW MUCH MONEY MIGHT NEWYORK LOSE DUE TO MISSING DATA?***"
   ]
  },
  {
   "cell_type": "code",
   "execution_count": 34,
   "id": "df9619d2-0417-46b3-b941-3f6e116e0608",
   "metadata": {},
   "outputs": [
    {
     "name": "stdout",
     "output_type": "stream",
     "text": [
      "The possible loss due to missing values incase the ticket is contested is 44,735,900.00 $\n"
     ]
    }
   ],
   "source": [
    "# The possible loss due to missing value for tickets is simply multiplying the rows with null values with 100$\n",
    "possible_loss = total_rows_with_null * 100\n",
    "print(f'The possible loss due to missing values incase the ticket is contested is {float(possible_loss):,.2f} $')"
   ]
  },
  {
   "cell_type": "markdown",
   "id": "cdf34b7e-07ac-4cc9-820d-287767a91d51",
   "metadata": {},
   "source": [
    "***QUESTION 5: ASSUMING TICKETS CAN ONLY BE DISMISSED IF LICENSE PLATE, STATE, CAR MAKE & STREET NAME ARE MISSING\n",
    "REMOVE ROWS THAT ARE MISSING FROM ONE OF THIS COLUMNS. HOW MANY ROWS ARE IN THE NEW DATA FRAME.***"
   ]
  },
  {
   "cell_type": "code",
   "execution_count": 13,
   "id": "53b7aa7a-09a6-4b17-8e7b-85aeae5bf3ed",
   "metadata": {},
   "outputs": [
    {
     "name": "stdout",
     "output_type": "stream",
     "text": [
      "The cleaned data frame having droped null values from car Reg.No, Reg. State, type and Street name has 12,431,949 rows\n"
     ]
    }
   ],
   "source": [
    "#Drop null values for specified columns using the subset =['column1','column2','column3'...]\n",
    "cleaned_df0 = df.dropna(subset=['Plate ID','Registration State','Vehicle Make','Street Name'])\n",
    "print(f\"The cleaned data frame having droped null values from car Reg.No, Reg. State, type and Street name has {len(cleaned_df0):,.0f} rows\")"
   ]
  },
  {
   "cell_type": "code",
   "execution_count": 14,
   "id": "0824a5b0-509a-49a4-be75-876fb472622d",
   "metadata": {},
   "outputs": [
    {
     "data": {
      "text/plain": [
       "Plate ID                   0\n",
       "Registration State         0\n",
       "Vehicle Make               0\n",
       "Violation Time           244\n",
       "Street Name                0\n",
       "Vehicle Color         383350\n",
       "dtype: int64"
      ]
     },
     "execution_count": 14,
     "metadata": {},
     "output_type": "execute_result"
    }
   ],
   "source": [
    "#To test if the above rows have any null values remaining.\n",
    "cleaned_df0.isna().sum()"
   ]
  },
  {
   "cell_type": "markdown",
   "id": "0ed1d62b-b93c-49ec-8fb9-2737f8bf27df",
   "metadata": {},
   "source": [
    "***QUESTION 6: HOW MUCH MONEY DOES THE CITY STAND TO LOSE DUE TO DROPED VALUES IN DF0 ASSUMING 100$ CHARGE***"
   ]
  },
  {
   "cell_type": "code",
   "execution_count": 15,
   "id": "a47cccb6-3575-48a8-b73f-607d75cb247b",
   "metadata": {},
   "outputs": [
    {
     "name": "stdout",
     "output_type": "stream",
     "text": [
      "The possible loss due to missing values incase the ticket is contested due to droped null values from car Reg.No, Reg. State, type and Street name is 6,378,500.00 $\n"
     ]
    }
   ],
   "source": [
    "#The Possible Loss for second data frame is the difference in Len of original and the df0 multiplied by 100$\n",
    "possible_loss0 = (number_of_row_in_df - len(cleaned_df0))*100\n",
    "print(f'The possible loss due to missing values incase the ticket is contested due to droped null values from car Reg.No, Reg. State, type and Street name is {float(possible_loss0):,.2f} $')"
   ]
  },
  {
   "cell_type": "code",
   "execution_count": null,
   "id": "77f5751e-255c-4fc0-879c-ba4fc56561d5",
   "metadata": {},
   "outputs": [],
   "source": []
  }
 ],
 "metadata": {
  "kernelspec": {
   "display_name": "Python 3 (ipykernel)",
   "language": "python",
   "name": "python3"
  },
  "language_info": {
   "codemirror_mode": {
    "name": "ipython",
    "version": 3
   },
   "file_extension": ".py",
   "mimetype": "text/x-python",
   "name": "python",
   "nbconvert_exporter": "python",
   "pygments_lexer": "ipython3",
   "version": "3.10.11"
  }
 },
 "nbformat": 4,
 "nbformat_minor": 5
}
