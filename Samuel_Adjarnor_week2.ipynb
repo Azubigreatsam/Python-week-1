{
 "cells": [
  {
   "cell_type": "code",
   "execution_count": 63,
   "id": "31ac6acf-4848-47ce-9de4-3c75ab24882a",
   "metadata": {},
   "outputs": [],
   "source": [
    "# Sales and Operations Planning Project"
   ]
  },
  {
   "cell_type": "code",
   "execution_count": 31,
   "id": "eb8dcc48-70ad-4ba1-b332-ed9fa9417ff7",
   "metadata": {},
   "outputs": [
    {
     "name": "stdin",
     "output_type": "stream",
     "text": [
      "Please enter an initial stock level: 500\n"
     ]
    }
   ],
   "source": [
    "stock_level = input(f\"Please enter an initial stock level:\")"
   ]
  },
  {
   "cell_type": "code",
   "execution_count": 10,
   "id": "2f0435d3-0edd-4e00-8e36-a9fb68bb9b17",
   "metadata": {},
   "outputs": [
    {
     "name": "stdin",
     "output_type": "stream",
     "text": [
      "Please enter the number of months to plan: 5\n"
     ]
    }
   ],
   "source": [
    "number_of_months = input(f\"Please enter the number of months to plan:\")"
   ]
  },
  {
   "cell_type": "code",
   "execution_count": 33,
   "id": "1ece4a77-1828-4745-aca1-42f44bb3bf61",
   "metadata": {},
   "outputs": [
    {
     "name": "stdin",
     "output_type": "stream",
     "text": [
      "Please enter the planned sales quantity for month 1: 300\n"
     ]
    }
   ],
   "source": [
    "sales_quantity1 = input(f\"Please enter the planned sales quantity for month 1:\")"
   ]
  },
  {
   "cell_type": "code",
   "execution_count": 47,
   "id": "643269f6-ed0f-417c-917b-9d89f7973d57",
   "metadata": {},
   "outputs": [
    {
     "name": "stdin",
     "output_type": "stream",
     "text": [
      "Please enter the planned sales quantity for month 2: 250\n"
     ]
    }
   ],
   "source": [
    "sales_quantity2 = input(f\"Please enter the planned sales quantity for month 2:\")"
   ]
  },
  {
   "cell_type": "code",
   "execution_count": 13,
   "id": "77832305-2be5-4498-bb8b-7fcdcf566895",
   "metadata": {},
   "outputs": [
    {
     "name": "stdin",
     "output_type": "stream",
     "text": [
      "Please enter the planned sales quantity for month 3: 200\n"
     ]
    }
   ],
   "source": [
    "sales_quantity3 = input(f\"Please enter the planned sales quantity for month 3:\")"
   ]
  },
  {
   "cell_type": "code",
   "execution_count": 14,
   "id": "560d5649-4511-4884-8a10-d42beb59a88e",
   "metadata": {},
   "outputs": [
    {
     "name": "stdin",
     "output_type": "stream",
     "text": [
      "Please enter the planned sales quantity for month 4: 400\n"
     ]
    }
   ],
   "source": [
    "sales_quantity4 = input(f\"Please enter the planned sales quantity for month 4:\")"
   ]
  },
  {
   "cell_type": "code",
   "execution_count": 15,
   "id": "9d1a0629-9cd0-461d-aa8d-5833da645dc2",
   "metadata": {},
   "outputs": [
    {
     "name": "stdin",
     "output_type": "stream",
     "text": [
      "Please enter the planned sales quantity for month 5: 100\n"
     ]
    }
   ],
   "source": [
    "sales_quantity5 = input(f\"Please enter the planned sales quantity for month 5:\")"
   ]
  },
  {
   "cell_type": "code",
   "execution_count": 61,
   "id": "8f8ce02b-0794-4bef-9807-fbff2a7de64f",
   "metadata": {},
   "outputs": [
    {
     "ename": "NameError",
     "evalue": "name 'prouction_month_1' is not defined",
     "output_type": "error",
     "traceback": [
      "\u001b[1;31m---------------------------------------------------------------\u001b[0m",
      "\u001b[1;31mNameError\u001b[0m                     Traceback (most recent call last)",
      "Cell \u001b[1;32mIn[61], line 1\u001b[0m\n\u001b[1;32m----> 1\u001b[0m \u001b[43mprouction_month_1\u001b[49m\n\u001b[0;32m      2\u001b[0m (\u001b[38;5;241m500\u001b[39m\u001b[38;5;241m-\u001b[39m\u001b[38;5;241m300\u001b[39m)\n",
      "\u001b[1;31mNameError\u001b[0m: name 'prouction_month_1' is not defined"
     ]
    }
   ],
   "source": []
  },
  {
   "cell_type": "code",
   "execution_count": null,
   "id": "ebe00e0e-9d31-4659-8267-dc0de62d6f3a",
   "metadata": {},
   "outputs": [],
   "source": []
  },
  {
   "cell_type": "code",
   "execution_count": null,
   "id": "658225d3-4d22-4326-b184-b6af638d7bf5",
   "metadata": {},
   "outputs": [],
   "source": []
  }
 ],
 "metadata": {
  "kernelspec": {
   "display_name": "Python 3 (ipykernel)",
   "language": "python",
   "name": "python3"
  },
  "language_info": {
   "codemirror_mode": {
    "name": "ipython",
    "version": 3
   },
   "file_extension": ".py",
   "mimetype": "text/x-python",
   "name": "python",
   "nbconvert_exporter": "python",
   "pygments_lexer": "ipython3",
   "version": "3.10.11"
  }
 },
 "nbformat": 4,
 "nbformat_minor": 5
}
