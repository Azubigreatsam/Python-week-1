{
 "cells": [
  {
   "cell_type": "code",
   "execution_count": null,
   "id": "3be49da8-951f-4f28-b5dc-6bfedc1e0587",
   "metadata": {},
   "outputs": [],
   "source": [
    "loanAmount = input(\"Principal: $\")\n",
    "interestRate = input(\"interest\")\n",
    "yearstopayoffmortgage = input(\"years\")\n",
    "\n",
    "numberOfPayments = yearstopayoffmortgage*12\n",
    "\n",
    "Total_monthly_payment = ('loanAmount[interestRate str(1 + interestRate)*yearstopayoffmortgage]/[str(1+interestRate)*yearstopayoffmortgage-1])')\n",
    "\n",
    "totalCharge = (Total_monthly_payment * numberOfPayments) - loanAmount\n",
    "\n",
    "\n",
    "print(\"You want to borrow $\" + (loanAmount) + \" over \" + (yearstopayoffmortgage) + \" years, with an interest rate of \" + (interestRate) + \"%!\")\n",
    "\n",
    "print(\"Your monthly repayment will be $\" + (monthlyRepaymentCost))\n",
    "\n",
    "print(\"Your monthly repayment will be $%.2f \" % monthlyRepaymentCost)\n",
    "\n",
    "print(\"The total charge on this loan will be $%.2f !\" % totalCharge)\n"
   ]
  }
 ],
 "metadata": {
  "kernelspec": {
   "display_name": "Python 3 (ipykernel)",
   "language": "python",
   "name": "python3"
  },
  "language_info": {
   "codemirror_mode": {
    "name": "ipython",
    "version": 3
   },
   "file_extension": ".py",
   "mimetype": "text/x-python",
   "name": "python",
   "nbconvert_exporter": "python",
   "pygments_lexer": "ipython3",
   "version": "3.10.11"
  }
 },
 "nbformat": 4,
 "nbformat_minor": 5
}
